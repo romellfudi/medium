{
  "nbformat": 4,
  "nbformat_minor": 0,
  "metadata": {
    "colab": {
      "provenance": [],
      "include_colab_link": true
    },
    "kernelspec": {
      "name": "python3",
      "display_name": "Python 3"
    },
    "language_info": {
      "name": "python"
    }
  },
  "cells": [
    {
      "cell_type": "markdown",
      "metadata": {
        "id": "view-in-github",
        "colab_type": "text"
      },
      "source": [
        "<a href=\"https://colab.research.google.com/github/romellfudi/medium/blob/main/New_Function_calling_with_OpenAI_API.ipynb\" target=\"_parent\"><img src=\"https://colab.research.google.com/assets/colab-badge.svg\" alt=\"Open In Colab\"/></a>"
      ]
    },
    {
      "cell_type": "markdown",
      "source": [
        "https://platform.openai.com/docs/guides/function-calling"
      ],
      "metadata": {
        "id": "1XsquIMfsAuj"
      }
    },
    {
      "cell_type": "code",
      "execution_count": 83,
      "metadata": {
        "id": "vwsVbzO9iT-Z",
        "cellView": "form"
      },
      "outputs": [],
      "source": [
        "#@title Installing python dependencies\n",
        "%%capture\n",
        "!pip install python-dotenv langchain openai tiktoken faiss-cpu  spotipy -q"
      ]
    },
    {
      "cell_type": "code",
      "source": [
        "#@title To Environment keys { display-mode: \"form\" }\n",
        "#@markdown Add your OPEN-API-KEY from [openai](https://openai.com/blog/openai-api)\n",
        "#@markdown and add your spotify dev credentials from [SpotifyDev](https://developer.spotify.com/dashboard)</br>\n",
        "#@markdown By default we use a developer-api-key\n",
        "\n",
        "openai_key = 'sk-'  #@param {type: \"string\"}\n",
        "spotipy_client_key = ''  #@param {type: \"string\"}\n",
        "spotipy_secret_key = ''  #@param {type: \"string\"}\n",
        "\n",
        "with open(\".env\", \"w\") as f:\n",
        "    f.write(f\"OPENAI_API_KEY={openai_key}\\n\")\n",
        "    f.write(f\"SPOTIPY_CLIENT_ID={spotipy_client_key}\\n\")\n",
        "    f.write(f\"SPOTIPY_CLIENT_SECRET={spotipy_secret_key}\\n\")\n",
        "\n",
        "print(\"Overwriting .env\")\n",
        "\n",
        "from dotenv import load_dotenv\n",
        "_=load_dotenv()"
      ],
      "metadata": {
        "colab": {
          "base_uri": "https://localhost:8080/"
        },
        "id": "_fr8-vH-jVex",
        "outputId": "c2d17509-20b8-41e6-d0fb-d325ec35fdc8"
      },
      "execution_count": 1,
      "outputs": [
        {
          "output_type": "stream",
          "name": "stdout",
          "text": [
            "Overwriting .env\n"
          ]
        }
      ]
    },
    {
      "cell_type": "code",
      "source": [
        "import spotipy\n",
        "import os\n",
        "import openai\n",
        "from spotipy.oauth2 import SpotifyClientCredentials\n",
        "print(\"openai version:\",openai.__version__)\n",
        "# Set up your Spotify API credentials\n",
        "client_credentials_manager = SpotifyClientCredentials()\n",
        "sp = spotipy.Spotify(client_credentials_manager=client_credentials_manager)"
      ],
      "metadata": {
        "id": "rGJb1FHQjfhh",
        "colab": {
          "base_uri": "https://localhost:8080/"
        },
        "outputId": "7b8917da-fe5f-4ffc-9021-2de096ebffa3"
      },
      "execution_count": 84,
      "outputs": [
        {
          "output_type": "stream",
          "name": "stdout",
          "text": [
            "openai version: 1.10.0\n"
          ]
        }
      ]
    },
    {
      "cell_type": "code",
      "source": [
        "import json\n",
        "from pprint import pprint\n",
        "\n",
        "def list_latest_episode_of_spotify_show(show_name, limit=40):\n",
        "    \"\"\"Get the latest episodes of a determine show or episode in a given name\"\"\"\n",
        "    result_fetch = sp.search(show_name, limit=limit, offset=0, type='episode',market='ES')\n",
        "    final_list = []\n",
        "    for item in result_fetch['episodes']['items']:\n",
        "        if show_name.lower() in item['description'].lower():\n",
        "            final_list.append({'release_date':item['release_date'],'episode_name':item['name'],'url':item['external_urls']['spotify']})\n",
        "    final_list = sorted(final_list, key=lambda x: x['release_date'], reverse=True)\n",
        "    return json.dumps(final_list[:limit])"
      ],
      "metadata": {
        "id": "GlD3ZkH1pouc"
      },
      "execution_count": 3,
      "outputs": []
    },
    {
      "cell_type": "code",
      "source": [
        "result_fetch = list_latest_episode_of_spotify_show('Globant')\n",
        "pprint(result_fetch)"
      ],
      "metadata": {
        "colab": {
          "base_uri": "https://localhost:8080/"
        },
        "id": "DjDTkYR3ttz6",
        "outputId": "e54b7720-16ea-4b0e-a75e-2fc1e8aa1560"
      },
      "execution_count": 4,
      "outputs": [
        {
          "output_type": "stream",
          "name": "stdout",
          "text": [
            "('[{\"release_date\": \"2024-01-17\", \"episode_name\": \"Inteligencia Artificial: '\n",
            " 'Esteban Molina - Site Manager Globant - \\\\u00bfC\\\\u00f3mo utilizar la '\n",
            " 'inteligencia artificial en los negocios para aumentar las capacidades '\n",
            " 'humanas?\", \"url\": '\n",
            " '\"https://open.spotify.com/episode/21ijkaaME4x9JUpMAnmcsS\"}, {\"release_date\": '\n",
            " '\"2023-12-26\", \"episode_name\": \"Apertura: \\\\u00bfQu\\\\u00e9 pas\\\\u00f3 con '\n",
            " 'Globant? | #Segurola\", \"url\": '\n",
            " '\"https://open.spotify.com/episode/6pCoduFRF3twt4za9FQcxk\"}, {\"release_date\": '\n",
            " '\"2023-12-13\", \"episode_name\": \"H2oh! - IA al servicio de la creatividad: el '\n",
            " 'impulso de las marcas con Pepe Chamorro de GLOBANT Create Studio\", \"url\": '\n",
            " '\"https://open.spotify.com/episode/2vVH0rB4gNw9dz7UdFxzq3\"}, {\"release_date\": '\n",
            " '\"2023-11-27\", \"episode_name\": \"Vinculando el futuro: empresas y startups en '\n",
            " 'sinergia I Caso Globant Ventures + Uali\", \"url\": '\n",
            " '\"https://open.spotify.com/episode/7Isc8QEOhvAwOwi06e81gu\"}, {\"release_date\": '\n",
            " '\"2023-09-07\", \"episode_name\": \"Los inicios del UX en Chile con Javier '\n",
            " 'Velasco - Globant Chile\", \"url\": '\n",
            " '\"https://open.spotify.com/episode/5QGuIxYRARBvs5jmMGG4a3\"}, {\"release_date\": '\n",
            " '\"2023-08-29\", \"episode_name\": \"#Perros2023 - \\\\u00bfLevantar de vacaciones '\n",
            " 'es m\\\\u00e1s f\\\\u00e1cil? \\\\u00bfTu oficina tiene un toro mec\\\\u00e1nico? | '\n",
            " 'Apertura 29 de agosto desde Globant\", \"url\": '\n",
            " '\"https://open.spotify.com/episode/7EcmSwjBUeEOyq2tMDO6oO\"}, {\"release_date\": '\n",
            " '\"2023-08-18\", \"episode_name\": \"[Noticias del d\\\\u00eda] A la espera del '\n",
            " 'desembolso del FMI + Licitaci\\\\u00f3n en pesos + Globant + \\\\u00edndices en '\n",
            " 'EE.UU. (18/8)\", \"url\": '\n",
            " '\"https://open.spotify.com/episode/3cjoYVSjR2maPfHZ3XtAod\"}, {\"release_date\": '\n",
            " '\"2023-08-18\", \"episode_name\": \"PlaybyPlay Podcast: Globant (NYSE: GLOB) and '\n",
            " \"LaLiga Tech work with Microsoft (NasdaqGS: MSFT) and DICK's Sporting Goods \"\n",
            " '(NYSE: DKS) Opens Ni\", \"url\": '\n",
            " '\"https://open.spotify.com/episode/7vPt9ORh7T50Byj9bC2N1k\"}, {\"release_date\": '\n",
            " '\"2023-08-04\", \"episode_name\": \"Mindset Digital: Esteban Molina Cardenas - '\n",
            " 'Site Manager en Globant Medell\\\\u00edn & Ecuador - \\\\u00bfC\\\\u00f3mo '\n",
            " 'digitalizar cultura para escalar cultura?\", \"url\": '\n",
            " '\"https://open.spotify.com/episode/0o0y3NmubGX9GRhoDLLzGB\"}, {\"release_date\": '\n",
            " '\"2023-08-03\", \"episode_name\": \"#737 Mauricio Salvatierra: En Globant '\n",
            " 'buscamos conquistar al mundo desde el lugar de origen de las personas que '\n",
            " 'trabajamos all\\\\u00ed\", \"url\": '\n",
            " '\"https://open.spotify.com/episode/5AVOUUK2ecxi5GedSIcww8\"}, {\"release_date\": '\n",
            " '\"2023-07-11\", \"episode_name\": \"#64 Develando el secreto: Claves para acceder '\n",
            " 'a un empleo en Globant\", \"url\": '\n",
            " '\"https://open.spotify.com/episode/1Xs3CfI0MtXmdFYEkl6UHs\"}, {\"release_date\": '\n",
            " '\"2023-06-26\", \"episode_name\": \"Qu\\\\u00e9 es el Learning Match - Santos '\n",
            " 'Videla (Globant)\", \"url\": '\n",
            " '\"https://open.spotify.com/episode/568pXcS72Cg9R8RlLsQCzP\"}, {\"release_date\": '\n",
            " '\"2023-01-13\", \"episode_name\": \"#4 Elena Morettini, Global Head Sustainable '\n",
            " 'Business en Globant\", \"url\": '\n",
            " '\"https://open.spotify.com/episode/6uzo9K9ydjWjlRuLU6AN8u\"}, {\"release_date\": '\n",
            " '\"2022-11-01\", \"episode_name\": \"S2E5 Globant | \\\\u00bfEn qu\\\\u00e9 se parecen '\n",
            " 'los UX Writers y los Quality Control?\", \"url\": '\n",
            " '\"https://open.spotify.com/episode/2WidqD2kFGU9koOe1akCmx\"}, {\"release_date\": '\n",
            " '\"2022-04-19\", \"episode_name\": \"El caso Globant: \\\\u00bfC\\\\u00f3mo se '\n",
            " 'construy\\\\u00f3 un unicornio argentino?\", \"url\": '\n",
            " '\"https://open.spotify.com/episode/4LAgh6AUVRKGoDJJmjDueO\"}, {\"release_date\": '\n",
            " '\"2021-02-18\", \"episode_name\": \"Bonus: Guibert Englebienne - Cofounder & CTO '\n",
            " 'Globant - La Transici\\\\u00f3n Tecnol\\\\u00f3gica del Hacer al Ser\", \"url\": '\n",
            " '\"https://open.spotify.com/episode/2oc72Tf1jrB7d9EAzEiPy0\"}, {\"release_date\": '\n",
            " '\"2020-08-26\", \"episode_name\": \"Sobre Globant, la cultura, tips y '\n",
            " 'visi\\\\u00f3n en tecnolog\\\\u00eda [feat. Guibert Englebienne, CTO & '\n",
            " 'Co-Founder Globant]\", \"url\": '\n",
            " '\"https://open.spotify.com/episode/2qI9MPOpgVNvAaNACnMPZO\"}, {\"release_date\": '\n",
            " '\"2020-07-17\", \"episode_name\": \"Entrevista a Martin Migoya de Globant por '\n",
            " 'Luciana Paulise - Qu\\\\u00e9 es la colaboraci\\\\u00f3n aumentada\", \"url\": '\n",
            " '\"https://open.spotify.com/episode/5VJrd1tqw3enf2aT6qDJ5p\"}, {\"release_date\": '\n",
            " '\"2020-05-30\", \"episode_name\": \"#132: Guibert Englebienne \\\\u2013 Cofundador '\n",
            " 'Globant & Presidente Endeavor Argentina \\\\u2013 Tsunami Cognitivo\", \"url\": '\n",
            " '\"https://open.spotify.com/episode/66cRjLPR0ywJaYlkifDBZV\"}]')\n"
          ]
        }
      ]
    },
    {
      "cell_type": "code",
      "source": [
        "tools = [\n",
        "    {\n",
        "            \"type\":\"function\",\n",
        "            \"function\": {\n",
        "                \"name\": \"list_latest_episode_of_spotify_show\",\n",
        "                \"description\": \"Get the latest episodes  from Spotify shows or episodes in a given name\",\n",
        "                \"parameters\": {\n",
        "                    \"type\": \"object\",\n",
        "                    \"properties\": {\n",
        "                        \"show_name\": {\n",
        "                            \"type\": \"string\",\n",
        "                            \"description\": \"The name of the show or episode, e.g., Apple, Globant, Twitter, Amazon\",\n",
        "                        },\n",
        "                        \"limit\": {\n",
        "                            \"type\": \"integer\",\n",
        "                            \"description\": \"The maximum number of items to fetch\",\n",
        "                        },\n",
        "\n",
        "                    },\n",
        "                    \"required\": [\"show_name\"],\n",
        "                },\n",
        "            }\n",
        "    }\n",
        "]"
      ],
      "metadata": {
        "id": "qzOJx--fzElA"
      },
      "execution_count": 17,
      "outputs": []
    },
    {
      "cell_type": "code",
      "source": [
        "messages = [{'role': 'user', 'content': 'Hello, I need your help to find postcasts in my Spotify'}]\n",
        "user_message=\"What are the latest ten episodes of Globant?\"\n",
        "messages.append({\"role\": \"user\", \"content\": user_message})\n",
        "client = openai.OpenAI()\n",
        "response = client.chat.completions.create(\n",
        "        model=\"gpt-3.5-turbo-1106\",\n",
        "        messages=messages,\n",
        "        tools = tools,\n",
        "        temperature=0.3,\n",
        "    )"
      ],
      "metadata": {
        "id": "H8Iok3wA91ks"
      },
      "execution_count": 18,
      "outputs": []
    },
    {
      "cell_type": "code",
      "source": [
        "response_function_calling = response.choices[0].message.tool_calls\n",
        "response_function_calling"
      ],
      "metadata": {
        "colab": {
          "base_uri": "https://localhost:8080/"
        },
        "id": "yfCMk-NrBYRS",
        "outputId": "6a4ff876-0fd3-4632-8971-a6004aeffd1d"
      },
      "execution_count": 19,
      "outputs": [
        {
          "output_type": "execute_result",
          "data": {
            "text/plain": [
              "[ChatCompletionMessageToolCall(id='call_LCJoMMEazTWrJbBXYaHrPdpR', function=Function(arguments='{\"show_name\":\"Globant\",\"limit\":10}', name='list_latest_episode_of_spotify_show'), type='function')]"
            ]
          },
          "metadata": {},
          "execution_count": 19
        }
      ]
    },
    {
      "cell_type": "code",
      "source": [
        "function_name = response_function_calling[0].function.name\n",
        "print(function_name)"
      ],
      "metadata": {
        "colab": {
          "base_uri": "https://localhost:8080/"
        },
        "id": "aQNVP5x7B8Wt",
        "outputId": "50f9961b-0d14-406f-9a29-cd6e83f8d404"
      },
      "execution_count": 24,
      "outputs": [
        {
          "output_type": "stream",
          "name": "stdout",
          "text": [
            "list_latest_episode_of_spotify_show\n"
          ]
        }
      ]
    },
    {
      "cell_type": "code",
      "source": [
        "import json\n",
        "show_name=eval(response_function_calling[0].function.arguments)['show_name']\n",
        "print(show_name)\n",
        "limit=eval(response_function_calling[0].function.arguments)['limit']\n",
        "print(limit)"
      ],
      "metadata": {
        "colab": {
          "base_uri": "https://localhost:8080/"
        },
        "id": "UVFBDy2qA0jM",
        "outputId": "35151b37-acd4-415f-8961-3ca9cb3007b7"
      },
      "execution_count": 26,
      "outputs": [
        {
          "output_type": "stream",
          "name": "stdout",
          "text": [
            "Globant\n",
            "10\n"
          ]
        }
      ]
    },
    {
      "cell_type": "code",
      "source": [
        "arguments = json.loads(response_function_calling[0].function.arguments)\n",
        "arguments"
      ],
      "metadata": {
        "colab": {
          "base_uri": "https://localhost:8080/"
        },
        "id": "G8P2KTyZLuTz",
        "outputId": "f10c5fdb-d542-4a58-8640-8aa20c4c7058"
      },
      "execution_count": 28,
      "outputs": [
        {
          "output_type": "execute_result",
          "data": {
            "text/plain": [
              "{'show_name': 'Globant', 'limit': 10}"
            ]
          },
          "metadata": {},
          "execution_count": 28
        }
      ]
    },
    {
      "cell_type": "code",
      "source": [
        "available_functions = {\n",
        "    'list_latest_episode_of_spotify_show': list_latest_episode_of_spotify_show\n",
        "}"
      ],
      "metadata": {
        "id": "T64iHV1xqkkL"
      },
      "execution_count": 29,
      "outputs": []
    },
    {
      "cell_type": "code",
      "source": [
        "function_response = available_functions[function_name](\n",
        "    show_name=arguments.get(\"show_name\"),\n",
        "    limit=arguments.get(\"limit\"),\n",
        ")\n",
        "pprint(function_response, width=150)"
      ],
      "metadata": {
        "colab": {
          "base_uri": "https://localhost:8080/"
        },
        "id": "TKZoVhneiArY",
        "outputId": "d77f48ab-f90f-42ec-cca3-bd2c7c9d9174"
      },
      "execution_count": 31,
      "outputs": [
        {
          "output_type": "stream",
          "name": "stdout",
          "text": [
            "('[{\"release_date\": \"2024-01-17\", \"episode_name\": \"Inteligencia Artificial: Esteban Molina - Site Manager Globant - \\\\u00bfC\\\\u00f3mo utilizar la '\n",
            " 'inteligencia artificial en los negocios para aumentar las capacidades humanas?\", \"url\": '\n",
            " '\"https://open.spotify.com/episode/21ijkaaME4x9JUpMAnmcsS\"}, {\"release_date\": \"2023-12-26\", \"episode_name\": \"Apertura: \\\\u00bfQu\\\\u00e9 pas\\\\u00f3 '\n",
            " 'con Globant? | #Segurola\", \"url\": \"https://open.spotify.com/episode/6pCoduFRF3twt4za9FQcxk\"}, {\"release_date\": \"2023-08-18\", \"episode_name\": '\n",
            " '\"[Noticias del d\\\\u00eda] A la espera del desembolso del FMI + Licitaci\\\\u00f3n en pesos + Globant + \\\\u00edndices en EE.UU. (18/8)\", \"url\": '\n",
            " '\"https://open.spotify.com/episode/3cjoYVSjR2maPfHZ3XtAod\"}, {\"release_date\": \"2023-08-03\", \"episode_name\": \"#737 Mauricio Salvatierra: En Globant '\n",
            " 'buscamos conquistar al mundo desde el lugar de origen de las personas que trabajamos all\\\\u00ed\", \"url\": '\n",
            " '\"https://open.spotify.com/episode/5AVOUUK2ecxi5GedSIcww8\"}]')\n"
          ]
        }
      ]
    },
    {
      "cell_type": "code",
      "source": [
        "result_data = list_latest_episode_of_spotify_show('Google', limit=50)\n",
        "result_list = json.loads(result_data)\n",
        "pprint([data['episode_name'] for data in result_list],width=150)"
      ],
      "metadata": {
        "colab": {
          "base_uri": "https://localhost:8080/"
        },
        "id": "2YnPnR2rC4Jw",
        "outputId": "a0b4ffc1-4119-4d6a-fb79-9f15f47c4b69"
      },
      "execution_count": 33,
      "outputs": [
        {
          "output_type": "stream",
          "name": "stdout",
          "text": [
            "['Google and HuggingFace Partner in Boost to Open Source AI',\n",
            " 'Google’s Announcements Show 2 Key 2024 AI Trends',\n",
            " 'Google SGE 2024: Das muss jeder Marketer wissen',\n",
            " 'Google Glass Half Empty with Leah Rudick and Rod Thill | 18',\n",
            " 'Ep412 - Nick Lane | The Deep Chemistry of Life and Death',\n",
            " 'Google landlords | Spy cam | AI copyright',\n",
            " 'How to be more innovative | Sam Schillace (Microsoft deputy CTO, creator of Google Docs)',\n",
            " '#110 Googlet einfach selber',\n",
            " 'De IA Generativa aos dados: o melhor do Google Cloud Cast Apresenta em 2023',\n",
            " 'Ó sogra, deixei-se disso e vá pesquisar no Google porquê!',\n",
            " 'Meta and Google Cut DEI Programs & Can TikTok Save Peloton?',\n",
            " 'The 14th Annual Google Zeitgeist Review of the Year Show 2023',\n",
            " 'Ep407 - Cole Nussbaumer Knaflic | Storytelling with Data',\n",
            " 'Cérebro da Lu: como o Magalu está usando IA generativa no atendimento ao cliente',\n",
            " 'How to Get to the Top of Google Again and Again and AGAIN',\n",
            " 'Prof G Markets: Epic Defeats Google, Ohtani’s Dodgers Contract, and Argentina Devalues the Peso',\n",
            " 'Toast - Google Glass',\n",
            " 'Google’s Epic Loss + Silicon Valley’s Curious New Subculture + How 2023 Changed the Internet',\n",
            " \"Google's Epic Loss!\",\n",
            " 'Epic Games Wins Against Google, COP 28, and Guest Naomi Alderman',\n",
            " 'Google Ranking-Faktoren 2024: Das hat sich geändert!',\n",
            " \"Google's Next Top Model + Will the Cybertruck Crash? + This Week in A.I.\",\n",
            " 'Listener Mail: Did OpenAI Build a Non-human Entity? Water Treatment, Mandela Effect and Google Maps',\n",
            " 'Comunidade e capacitação: por onde começar?',\n",
            " '428: Llega Google Gemini: Supera al ser humano',\n",
            " '427: Posiciona rápido en Google en 2024',\n",
            " '#249 - Google Ads für Beginner',\n",
            " 'Google Analytics 4: Alltags-Tipps für den Real-Einsatz im KMU-Online-Marketing (Sven Deutschländer)  | OMT-Podcast #199',\n",
            " '#1187 - Porque Anunciar no Google Gera Resultado',\n",
            " '#103 Google-Algorithmus: Einfach erklärt für Dummies',\n",
            " 'We Answer The Most Googled Running Questions...',\n",
            " \"Google's 25th Birthday! Search engine giant celebrates 25th anniversary with a quirky doodle\",\n",
            " 'Google DeepMind Co-founder: AI Could Release A Deadly Virus - It’s Getting More Threatening! Mustafa Suleyman',\n",
            " 'Mastering Google Ads for Your eCommerce Store (Episode 23)',\n",
            " 'EMERGENCY EPISODE: Ex-Google Officer Finally Speaks Out On The Dangers Of AI! - Mo Gawdat',\n",
            " 'More Google Translations',\n",
            " \"S04 EP27: The One Where Josh Google's himself...\",\n",
            " '12. Google Ads Secrets For Small Business (How to Make Them Work)',\n",
            " 'An introduction to Google Ads',\n",
            " 'Sundar Pichai Motivation | Google CEO | FOLLOW YOUR PASSION | 1 Minute Motivation',\n",
            " 'Eric Schmidt: Google',\n",
            " '#47 - Quanto devo investir no Google Adwords?']\n"
          ]
        }
      ]
    },
    {
      "cell_type": "code",
      "source": [
        "%%writefile spotify_utils.py\n",
        "import json\n",
        "import spotipy\n",
        "from spotipy.oauth2 import SpotifyClientCredentials\n",
        "\n",
        "client_credentials_manager = SpotifyClientCredentials()\n",
        "sp = spotipy.Spotify(client_credentials_manager=client_credentials_manager)\n",
        "\n",
        "def list_latest_episode_of_spotify_show(show_name, limit=20):\n",
        "    \"\"\"Get the latest episodes of a determine show or episode in a given name\"\"\"\n",
        "    result_fetch = sp.search(show_name, limit=40, offset=0, type='episode',market='ES')\n",
        "    final_list = []\n",
        "    for item in result_fetch['episodes']['items']:\n",
        "        if show_name.lower() in item['description'].lower():\n",
        "            final_list.append({'release_date':item['release_date'],'episode_name':item['name'],'url':item['external_urls']['spotify']})\n",
        "    final_list = sorted(final_list, key=lambda x: x['release_date'], reverse=True)\n",
        "    print(\"final_list\",final_list)\n",
        "    return json.dumps(final_list[:limit])"
      ],
      "metadata": {
        "colab": {
          "base_uri": "https://localhost:8080/"
        },
        "id": "BKWM-mwR1I7f",
        "outputId": "a427895f-e886-4352-deb2-0fac4ec12178"
      },
      "execution_count": 55,
      "outputs": [
        {
          "output_type": "stream",
          "name": "stdout",
          "text": [
            "Overwriting spotify_utils.py\n"
          ]
        }
      ]
    },
    {
      "cell_type": "code",
      "source": [
        "import spotify_utils\n",
        "from spotify_utils import list_latest_episode_of_spotify_show\n",
        "available_functions = {func_name: func for func_name, func in globals().items() if callable(func) and func_name != 'function_object' and func.__module__ == spotify_utils.__name__}\n",
        "available_functions"
      ],
      "metadata": {
        "colab": {
          "base_uri": "https://localhost:8080/"
        },
        "id": "vGwXfui3A0e9",
        "outputId": "2c98edda-1c32-4c9d-d0c0-cb0f208f66b1"
      },
      "execution_count": 56,
      "outputs": [
        {
          "output_type": "execute_result",
          "data": {
            "text/plain": [
              "{'list_latest_episode_of_spotify_show': <function spotify_utils.list_latest_episode_of_spotify_show(show_name, limit=20)>}"
            ]
          },
          "metadata": {},
          "execution_count": 56
        }
      ]
    },
    {
      "cell_type": "code",
      "source": [
        "import spotify_utils\n",
        "function_object = getattr(spotify_utils, function_name)\n",
        "function_response = function_object(**arguments)\n",
        "pprint(function_response, width=150)"
      ],
      "metadata": {
        "colab": {
          "base_uri": "https://localhost:8080/"
        },
        "id": "sPevyy6M0ivz",
        "outputId": "b04f9097-2aac-4309-f2a3-8ac3b73a636d"
      },
      "execution_count": 36,
      "outputs": [
        {
          "output_type": "stream",
          "name": "stdout",
          "text": [
            "('[{\"release_date\": \"2024-01-17\", \"episode_name\": \"Inteligencia Artificial: Esteban Molina - Site Manager Globant - \\\\u00bfC\\\\u00f3mo utilizar la '\n",
            " 'inteligencia artificial en los negocios para aumentar las capacidades humanas?\", \"url\": '\n",
            " '\"https://open.spotify.com/episode/21ijkaaME4x9JUpMAnmcsS\"}, {\"release_date\": \"2023-12-26\", \"episode_name\": \"Apertura: \\\\u00bfQu\\\\u00e9 pas\\\\u00f3 '\n",
            " 'con Globant? | #Segurola\", \"url\": \"https://open.spotify.com/episode/6pCoduFRF3twt4za9FQcxk\"}, {\"release_date\": \"2023-12-13\", \"episode_name\": '\n",
            " '\"H2oh! - IA al servicio de la creatividad: el impulso de las marcas con Pepe Chamorro de GLOBANT Create Studio\", \"url\": '\n",
            " '\"https://open.spotify.com/episode/2vVH0rB4gNw9dz7UdFxzq3\"}, {\"release_date\": \"2023-11-27\", \"episode_name\": \"Vinculando el futuro: empresas y '\n",
            " 'startups en sinergia I Caso Globant Ventures + Uali\", \"url\": \"https://open.spotify.com/episode/7Isc8QEOhvAwOwi06e81gu\"}, {\"release_date\": '\n",
            " '\"2023-09-07\", \"episode_name\": \"Los inicios del UX en Chile con Javier Velasco - Globant Chile\", \"url\": '\n",
            " '\"https://open.spotify.com/episode/5QGuIxYRARBvs5jmMGG4a3\"}, {\"release_date\": \"2023-08-29\", \"episode_name\": \"#Perros2023 - \\\\u00bfLevantar de '\n",
            " 'vacaciones es m\\\\u00e1s f\\\\u00e1cil? \\\\u00bfTu oficina tiene un toro mec\\\\u00e1nico? | Apertura 29 de agosto desde Globant\", \"url\": '\n",
            " '\"https://open.spotify.com/episode/7EcmSwjBUeEOyq2tMDO6oO\"}, {\"release_date\": \"2023-08-18\", \"episode_name\": \"[Noticias del d\\\\u00eda] A la espera '\n",
            " 'del desembolso del FMI + Licitaci\\\\u00f3n en pesos + Globant + \\\\u00edndices en EE.UU. (18/8)\", \"url\": '\n",
            " '\"https://open.spotify.com/episode/3cjoYVSjR2maPfHZ3XtAod\"}, {\"release_date\": \"2023-08-18\", \"episode_name\": \"PlaybyPlay Podcast: Globant (NYSE: '\n",
            " 'GLOB) and LaLiga Tech work with Microsoft (NasdaqGS: MSFT) and DICK\\'s Sporting Goods (NYSE: DKS) Opens Ni\", \"url\": '\n",
            " '\"https://open.spotify.com/episode/7vPt9ORh7T50Byj9bC2N1k\"}, {\"release_date\": \"2023-08-04\", \"episode_name\": \"Mindset Digital: Esteban Molina '\n",
            " 'Cardenas - Site Manager en Globant Medell\\\\u00edn & Ecuador - \\\\u00bfC\\\\u00f3mo digitalizar cultura para escalar cultura?\", \"url\": '\n",
            " '\"https://open.spotify.com/episode/0o0y3NmubGX9GRhoDLLzGB\"}, {\"release_date\": \"2023-08-03\", \"episode_name\": \"#737 Mauricio Salvatierra: En Globant '\n",
            " 'buscamos conquistar al mundo desde el lugar de origen de las personas que trabajamos all\\\\u00ed\", \"url\": '\n",
            " '\"https://open.spotify.com/episode/5AVOUUK2ecxi5GedSIcww8\"}]')\n"
          ]
        }
      ]
    },
    {
      "cell_type": "code",
      "source": [
        "def askToSpotifyBot(user_input, functions=tools):\n",
        "    \"\"\"\n",
        "    Interacts with a Spotify bot to find podcasts and return a list with markdown links.\n",
        "\n",
        "    Args:\n",
        "        user_input (str): The user's input/query.\n",
        "        functions (dict): A dictionary containing available functions for interaction.\n",
        "\n",
        "    Returns:\n",
        "        str: Formatted response containing podcast list or function output.\n",
        "    \"\"\"\n",
        "\n",
        "    # Initial system message\n",
        "    messages = [{'role': 'system', 'content': \"\"\"\n",
        "        You are an assistant helping me find podcasts on Spotify and returning the entire list.\n",
        "        Please reply in markdown format and add the link at the end of each episode using [Listen here](url)\"\"\" }]\n",
        "\n",
        "    # Add user input to messages\n",
        "    messages.append({\"role\": \"user\", \"content\": user_input})\n",
        "\n",
        "    # Call the GPT-3 model for initial completion\n",
        "    response = client.chat.completions.create(\n",
        "        model=\"gpt-3.5-turbo-1106\",\n",
        "        messages=messages,\n",
        "        tools = tools,\n",
        "        temperature=0.3,\n",
        "    )\n",
        "\n",
        "    response_message = response.choices[0].message\n",
        "    tool_calls = response_message.tool_calls\n",
        "    messages.append(response_message)\n",
        "    if tool_calls:\n",
        "        for tool_call in tool_calls:\n",
        "            function_name = tool_call.function.name\n",
        "            function_to_call = available_functions[function_name]\n",
        "            function_args = json.loads(tool_call.function.arguments)\n",
        "            function_response = function_to_call(**function_args)\n",
        "            messages.append(\n",
        "                {\n",
        "                    \"tool_call_id\": tool_call.id,\n",
        "                    \"role\": \"tool\",\n",
        "                    \"name\": function_name,\n",
        "                    \"content\": function_response,\n",
        "                }\n",
        "            )  # extend conversation with function response\n",
        "        second_response = client.chat.completions.create(\n",
        "            model=\"gpt-3.5-turbo-1106\",\n",
        "            messages=messages,\n",
        "        )  # get a new response from the model where it can see the function response\n",
        "        return second_response.choices[0].message.content\n",
        "    else:\n",
        "        return response_message.content"
      ],
      "metadata": {
        "id": "R4m2GxlgbWag"
      },
      "execution_count": 78,
      "outputs": []
    },
    {
      "cell_type": "code",
      "source": [
        "from IPython.display import Markdown\n",
        "Markdown(askToSpotifyBot(\"What are the latest 7 episodes of Twitter? Be concise\"))"
      ],
      "metadata": {
        "colab": {
          "base_uri": "https://localhost:8080/",
          "height": 190
        },
        "id": "9XhMATDgiAnw",
        "outputId": "46ae3ded-2e57-4b5d-b275-f75eb3c41391"
      },
      "execution_count": 81,
      "outputs": [
        {
          "output_type": "execute_result",
          "data": {
            "text/plain": [
              "<IPython.core.display.Markdown object>"
            ],
            "text/markdown": "Here are the latest 7 episodes of Twitter:\n\n1. [The Other Side of Manitham EXPOSED! | Twitter Time Pass Space](https://open.spotify.com/episode/0fazZNw2wCdJZPfzcqeVd0)\n2. [Morattu Fun Conversation Between Robinson & Tamil Pulavar Manitham | Twitter Time Pass Space](https://open.spotify.com/episode/4HsbNAs36hGrx82vzgSdAz)\n3. [Is Onam A Tamil Festival - Fun Analysis | Twitter Time Pass Space](https://open.spotify.com/episode/3PkX4XN46h6waRaO6HI1qd)\n4. [Salaar > Ayalaan & Captain Miller? | Twitter Time Pass Space](https://open.spotify.com/episode/1o0Oyzd1kwOZjKpdZH6ji1)\n5. [Vidaamuyarchi CANT Cross The Box Office Collection Of LEO | Twitter Time Pass Space](https://open.spotify.com/episode/5QDIonkpCKmq7kvPMhRbeK)\n6. [Ayalaan - The Real Pongal Winner? | Twitter Time Pass Space](https://open.spotify.com/episode/6CUb2AGyLrxJjNRwsFhoc9)\n7. [Arun Vijay's Mission Movie Review | Twitter Time Pass Space](https://open.spotify.com/episode/5EbmocyRk3PsX67csM00PH)"
          },
          "metadata": {},
          "execution_count": 81
        }
      ]
    },
    {
      "cell_type": "code",
      "source": [
        "Markdown(askToSpotifyBot(\"What are the latest 8 episodes of Globant? Group by year\"))"
      ],
      "metadata": {
        "colab": {
          "base_uri": "https://localhost:8080/",
          "height": 323
        },
        "id": "6hbPqoCJiAjZ",
        "outputId": "7de965ad-a5e2-4d2d-9664-9a82377cf04c"
      },
      "execution_count": 80,
      "outputs": [
        {
          "output_type": "execute_result",
          "data": {
            "text/plain": [
              "<IPython.core.display.Markdown object>"
            ],
            "text/markdown": "### 2024\n1. **Inteligencia Artificial: Esteban Molina - Site Manager Globant - ¿Cómo utilizar la inteligencia artificial en los negocios para aumentar las capacidades humanas?** - *Jan 17, 2024* - [Listen here](https://open.spotify.com/episode/21ijkaaME4x9JUpMAnmcsS)\n\n### 2023\n1. **Apertura: ¿Qué pasó con Globant? | #Segurola** - *Dec 26, 2023* - [Listen here](https://open.spotify.com/episode/6pCoduFRF3twt4za9FQcxk)\n2. **H2oh! - IA al servicio de la creatividad: el impulso de las marcas con Pepe Chamorro de GLOBANT Create Studio** - *Dec 13, 2023* - [Listen here](https://open.spotify.com/episode/2vVH0rB4gNw9dz7UdFxzq3)\n3. **Vinculando el futuro: empresas y startups en sinergia I Caso Globant Ventures + Uali** - *Nov 27, 2023* - [Listen here](https://open.spotify.com/episode/7Isc8QEOhvAwOwi06e81gu)\n4. **Los inicios del UX en Chile con Javier Velasco - Globant Chile** - *Sep 7, 2023* - [Listen here](https://open.spotify.com/episode/5QGuIxYRARBvs5jmMGG4a3)\n5. **#Perros2023 - ¿Levantar de vacaciones es más fácil? ¿Tu oficina tiene un toro mecánico? | Apertura 29 de agosto desde Globant** - *Aug 29, 2023* - [Listen here](https://open.spotify.com/episode/7EcmSwjBUeEOyq2tMDO6oO)\n6. **[Noticias del día] A la espera del desembolso del FMI + Licitación en pesos + Globant + índices en EE.UU. (18/8)** - *Aug 18, 2023* - [Listen here](https://open.spotify.com/episode/3cjoYVSjR2maPfHZ3XtAod)\n7. **PlaybyPlay Podcast: Globant (NYSE: GLOB) and LaLiga Tech work with Microsoft (NasdaqGS: MSFT) and DICK's Sporting Goods (NYSE: DKS) Opens Ni** - *Aug 18, 2023* - [Listen here](https://open.spotify.com/episode/7vPt9ORh7T50Byj9bC2N1k)"
          },
          "metadata": {},
          "execution_count": 80
        }
      ]
    },
    {
      "cell_type": "code",
      "source": [
        "Markdown(askToSpotifyBot(\"What are the latest 15 episodes of Bitcoin? Group by month and change 'Listen here' link to 'Escuchame'\"))"
      ],
      "metadata": {
        "id": "_syQpdFJhFow",
        "colab": {
          "base_uri": "https://localhost:8080/",
          "height": 349
        },
        "outputId": "d18f74d1-2e3e-4481-c7e9-3f5fa9659275"
      },
      "execution_count": 82,
      "outputs": [
        {
          "output_type": "execute_result",
          "data": {
            "text/plain": [
              "<IPython.core.display.Markdown object>"
            ],
            "text/markdown": "### January 2024\n- [Accelerate Bitcoin with Dylan LeClair - WBD765](https://open.spotify.com/episode/1e38QQgYDKmct8CJjAB7RF) - Escuchame\n- [Trailer: Was erwartet euch bei Bitcoin verstehen?](https://open.spotify.com/episode/3SX2pVoRHKhqsfsmQGJNDk) - Escuchame\n- [What’s next for Bitcoin ETFs?](https://open.spotify.com/episode/5xSt2H27sARbAB6fjPf8m3) - Escuchame\n- [The AI Election + Bitcoin’s Wall Street Debut + TikTok’s Doodad Era](https://open.spotify.com/episode/5zP2qNLH5bXIQo9IzM9lVf) - Escuchame\n- [Bitcoin or Gold? Oaktree’s Howard Marks Sees Little Difference](https://open.spotify.com/episode/6BfV4926tgT3pQ1Wa71rSX) - Escuchame\n- [The Orange Pill with Dave Smith - WBD763](https://open.spotify.com/episode/4tYlW7XDfhZ5RuzYyHPPsk) - Escuchame\n- [Orange Pilling Wall Street with Hunter Horsley - WBD762](https://open.spotify.com/episode/2bwSRPIf76AWFJznpRD3g8) - Escuchame\n- [Bitcoin's Long Journey to the Stock Market](https://open.spotify.com/episode/3AuLbbYFjH4RDMIM3BQ77W) - Escuchame\n- [Prof G Markets: Carta and the Secondary Market, Bitcoin ETFs, and Scott’s 2024 Investment Strategy](https://open.spotify.com/episode/1J8wlMsccG3KZtPbdQ5o3v) - Escuchame\n- [The Economics of Bitcoin Scaling with Lyn Alden - WBD761](https://open.spotify.com/episode/0bmCBlqJLbzqUhOzideNLu) - Escuchame\n- [The Arrival of Bitcoin ETFs with James Seyffart & Alex Thorn - WBD760](https://open.spotify.com/episode/4B3u7oLQHTZq5OMc1LPIhj) - Escuchame\n- [Don Lemon Returns, Bitcoin ETF Approval, and BI vs. Axel Springer](https://open.spotify.com/episode/7FdwEMjfMasBCPjy48zS55) - Escuchame\n- [A Christmas cracker for some UK retailers, Boeing shares fall after door blowout and Bitcoin ETFs given green light by US regulator](https://open.spotify.com/episode/2g5d4JLTM6fUU06CxkDFwy) - Escuchame\n- [What ETFs mean for bitcoin](https://open.spotify.com/episode/5imQkau8b4udv0Tdwrd5to) - Escuchame\n- [The Genesis of Bitcoin with Aaron Van Wirdum - WBD759](https://open.spotify.com/episode/7plvH8yNSMFSn1Rq6NWizc) - Escuchame\n\nLet me know if I can help you with anything else!"
          },
          "metadata": {},
          "execution_count": 82
        }
      ]
    },
    {
      "cell_type": "code",
      "source": [],
      "metadata": {
        "id": "D5iv9Zpban-b"
      },
      "execution_count": null,
      "outputs": []
    }
  ]
}