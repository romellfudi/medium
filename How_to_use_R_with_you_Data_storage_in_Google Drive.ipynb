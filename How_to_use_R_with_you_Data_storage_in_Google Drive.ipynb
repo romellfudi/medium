{
  "nbformat": 4,
  "nbformat_minor": 0,
  "metadata": {
    "colab": {
      "provenance": [],
      "include_colab_link": true
    },
    "kernelspec": {
      "name": "python3",
      "display_name": "Python 3"
    },
    "language_info": {
      "name": "python"
    }
  },
  "cells": [
    {
      "cell_type": "markdown",
      "metadata": {
        "id": "view-in-github",
        "colab_type": "text"
      },
      "source": [
        "<a href=\"https://colab.research.google.com/github/romellfudi/medium/blob/main/How_to_use_R_with_you_Data_storage_in_Google%C2%A0Drive.ipynb\" target=\"_parent\"><img src=\"https://colab.research.google.com/assets/colab-badge.svg\" alt=\"Open In Colab\"/></a>"
      ]
    },
    {
      "cell_type": "code",
      "source": [
        "!pip install -q rpy2==3.5.1"
      ],
      "metadata": {
        "colab": {
          "base_uri": "https://localhost:8080/"
        },
        "id": "_VN3gME_g1gF",
        "outputId": "1455ebbc-6168-4a98-e843-4cd4791d7a35"
      },
      "execution_count": null,
      "outputs": [
        {
          "output_type": "stream",
          "name": "stdout",
          "text": [
            "\u001b[?25l\r\u001b[K     |█▋                              | 10 kB 30.2 MB/s eta 0:00:01\r\u001b[K     |███▎                            | 20 kB 36.4 MB/s eta 0:00:01\r\u001b[K     |████▉                           | 30 kB 44.8 MB/s eta 0:00:01\r\u001b[K     |██████▌                         | 40 kB 34.6 MB/s eta 0:00:01\r\u001b[K     |████████▏                       | 51 kB 38.3 MB/s eta 0:00:01\r\u001b[K     |█████████▊                      | 61 kB 42.5 MB/s eta 0:00:01\r\u001b[K     |███████████▍                    | 71 kB 28.6 MB/s eta 0:00:01\r\u001b[K     |█████████████                   | 81 kB 29.2 MB/s eta 0:00:01\r\u001b[K     |██████████████▋                 | 92 kB 31.5 MB/s eta 0:00:01\r\u001b[K     |████████████████▎               | 102 kB 29.0 MB/s eta 0:00:01\r\u001b[K     |█████████████████▉              | 112 kB 29.0 MB/s eta 0:00:01\r\u001b[K     |███████████████████▌            | 122 kB 29.0 MB/s eta 0:00:01\r\u001b[K     |█████████████████████▏          | 133 kB 29.0 MB/s eta 0:00:01\r\u001b[K     |██████████████████████▊         | 143 kB 29.0 MB/s eta 0:00:01\r\u001b[K     |████████████████████████▍       | 153 kB 29.0 MB/s eta 0:00:01\r\u001b[K     |██████████████████████████      | 163 kB 29.0 MB/s eta 0:00:01\r\u001b[K     |███████████████████████████▋    | 174 kB 29.0 MB/s eta 0:00:01\r\u001b[K     |█████████████████████████████▎  | 184 kB 29.0 MB/s eta 0:00:01\r\u001b[K     |██████████████████████████████▉ | 194 kB 29.0 MB/s eta 0:00:01\r\u001b[K     |████████████████████████████████| 201 kB 29.0 MB/s \n",
            "\u001b[?25h  Building wheel for rpy2 (setup.py) ... \u001b[?25l\u001b[?25hdone\n"
          ]
        }
      ]
    },
    {
      "cell_type": "code",
      "execution_count": null,
      "metadata": {
        "id": "tD7ScjKRTgd-"
      },
      "outputs": [],
      "source": [
        "%load_ext rpy2.ipython"
      ]
    },
    {
      "cell_type": "code",
      "source": [
        "%%capture\n",
        "%%R\n",
        "install.packages('reshape2')\n",
        "library(reshape2)\n",
        "install.packages('lubridate')\n",
        "library(lubridate)\n",
        "library(plyr)\n",
        "library(tidyverse)\n",
        "library(ggplot2)\n",
        "library(data.table)\n",
        "install.packages('DBI')\n",
        "library(DBI)\n",
        "install.packages('RMySQL')\n",
        "library(RMySQL)"
      ],
      "metadata": {
        "id": "nOPCp9tPMo02"
      },
      "execution_count": null,
      "outputs": []
    },
    {
      "cell_type": "code",
      "source": [
        "from google.colab import drive\n",
        "drive.mount('/content/drive')\n",
        "path=\"/content/drive/My Drive/Colab Notebooks/\"\n",
        "%cd {path}"
      ],
      "metadata": {
        "id": "xGS2foQvhZvH"
      },
      "execution_count": null,
      "outputs": []
    },
    {
      "cell_type": "code",
      "source": [
        "%ls"
      ],
      "metadata": {
        "id": "DKqO3FzphkiZ"
      },
      "execution_count": null,
      "outputs": []
    },
    {
      "cell_type": "code",
      "source": [
        "%%R\n",
        "precios <- read.csv(file = 'PERU.GOB.PE.csv',sep=',')"
      ],
      "metadata": {
        "id": "3pkJvOSZdve4"
      },
      "execution_count": null,
      "outputs": []
    },
    {
      "cell_type": "code",
      "source": [
        "%%R\n",
        "head(precios,1)"
      ],
      "metadata": {
        "colab": {
          "base_uri": "https://localhost:8080/"
        },
        "id": "GxJbhZSvd2tF",
        "outputId": "056107f1-1b23-4fe3-9c97-d084e7141ea0"
      },
      "execution_count": null,
      "outputs": [
        {
          "output_type": "stream",
          "name": "stdout",
          "text": [
            "  Producto Jan.20 Feb.20 Mar.20 Apr.20 May.20 Jun.20 Jul.20 Aug.20 Sep.20\n",
            "1      Aji   5.82   5.57   5.87   5.69   6.13   6.57   7.83   7.76   6.81\n",
            "  Oct.20 Nov.20 Dec.20 Jan.21 Feb.21 Mar.21 Apr.21 May.21 Jun.21 Jul.21\n",
            "1   6.37    6.7    7.9   7.27    7.1   7.73   7.45   6.96   6.69   7.51\n"
          ]
        }
      ]
    },
    {
      "cell_type": "code",
      "source": [
        "%%R\n",
        "names(precios)"
      ],
      "metadata": {
        "colab": {
          "base_uri": "https://localhost:8080/"
        },
        "id": "FSB2dF6BNriz",
        "outputId": "c9c0770e-6678-4a63-a58b-befcc39c45be"
      },
      "execution_count": null,
      "outputs": [
        {
          "output_type": "stream",
          "name": "stdout",
          "text": [
            " [1] \"Producto\" \"Jan.20\"   \"Feb.20\"   \"Mar.20\"   \"Apr.20\"   \"May.20\"  \n",
            " [7] \"Jun.20\"   \"Jul.20\"   \"Aug.20\"   \"Sep.20\"   \"Oct.20\"   \"Nov.20\"  \n",
            "[13] \"Dec.20\"   \"Jan.21\"   \"Feb.21\"   \"Mar.21\"   \"Apr.21\"   \"May.21\"  \n",
            "[19] \"Jun.21\"   \"Jul.21\"  \n"
          ]
        }
      ]
    },
    {
      "cell_type": "code",
      "source": [
        "%%R\n",
        "precios$Producto <- tolower(precios$Producto)\n",
        "head(precios)"
      ],
      "metadata": {
        "colab": {
          "base_uri": "https://localhost:8080/"
        },
        "id": "qBweJG_WJbMw",
        "outputId": "14a5bef5-62f7-4850-c7cf-0a7b70841b2e"
      },
      "execution_count": null,
      "outputs": [
        {
          "output_type": "stream",
          "name": "stdout",
          "text": [
            "           Producto Jan.20 Feb.20 Mar.20 Apr.20 May.20 Jun.20 Jul.20 Aug.20\n",
            "1               aji   5.82   5.57   5.87   5.69   6.13   6.57   7.83   7.76\n",
            "2 aji amarillo seco  10.61  10.50  10.91  10.38  10.84  11.30  13.01  13.24\n",
            "3     aji escabeche   2.41   2.71   2.60   1.87   1.74   1.53   1.99   1.82\n",
            "4       aji montaña   3.03   3.04   2.84   2.80   2.98   2.92   4.80   4.01\n",
            "5         aji panca   7.99   7.12   7.93   8.30  10.16  11.75  14.25  14.09\n",
            "6       aji paprika   9.25   8.29   8.45   8.63   8.91   9.94  10.53  10.63\n",
            "  Sep.20 Oct.20 Nov.20 Dec.20 Jan.21 Feb.21 Mar.21 Apr.21 May.21 Jun.21 Jul.21\n",
            "1   6.81   6.37   6.70   7.90   7.27   7.10   7.73   7.45   6.96   6.69   7.51\n",
            "2  11.73  10.49  11.75  13.45  12.92  12.73  12.57  12.52  12.03  11.76  13.03\n",
            "3   2.42   3.24   3.53   3.05   2.95   2.05   1.42   1.83   3.51   2.94   3.25\n",
            "4   3.72   3.66   3.01   3.32   2.97   3.62   5.79   4.51   2.47   2.65   2.79\n",
            "5  10.53   8.68   9.84  14.36  13.46  12.60  13.10  13.08  12.64  12.68  14.11\n",
            "6   9.25   8.50   9.58  11.07   9.42  10.25  11.73  10.51   9.01   8.78  10.31\n"
          ]
        }
      ]
    },
    {
      "cell_type": "code",
      "source": [
        "%%R\n",
        "library(reshape2)\n",
        "precios_melt <- melt(precios,variable.name = \"Fecha\",value.name = \"Precio\")\n",
        "precios_melt$Fecha = as.Date(parse_date_time(precios_melt$Fecha, \"%b.%y\"))"
      ],
      "metadata": {
        "colab": {
          "base_uri": "https://localhost:8080/"
        },
        "id": "SRrVUGKBJgSQ",
        "outputId": "4ffd34ad-f37a-4935-c234-bd4f360a5321"
      },
      "execution_count": null,
      "outputs": [
        {
          "output_type": "stream",
          "name": "stderr",
          "text": [
            "R[write to console]: Using Producto as id variables\n",
            "\n"
          ]
        }
      ]
    },
    {
      "cell_type": "code",
      "source": [
        "%%R\n",
        "names(precios_melt) <- toupper(names(precios_melt))\n",
        "str(precios_melt)"
      ],
      "metadata": {
        "colab": {
          "base_uri": "https://localhost:8080/"
        },
        "id": "NNuFpseaJlyQ",
        "outputId": "02ec3476-aa82-4033-f544-7a421a643dda"
      },
      "execution_count": null,
      "outputs": [
        {
          "output_type": "stream",
          "name": "stdout",
          "text": [
            "'data.frame':\t1311 obs. of  3 variables:\n",
            " $ PRODUCTO: chr  \"aji\" \"aji amarillo seco\" \"aji escabeche\" \"aji montaña\" ...\n",
            " $ FECHA   : Date, format: \"2020-01-01\" \"2020-01-01\" ...\n",
            " $ PRECIO  : num  5.82 10.61 2.41 3.03 7.99 ...\n"
          ]
        }
      ]
    },
    {
      "cell_type": "code",
      "source": [
        "%%R\n",
        "precios_melt <- na.omit(precios_melt)\n",
        "precios_melt$PRECIO <- round(precios_melt$PRECIO,2)\n",
        "precios_melt <- precios_melt[precios_melt$PRECIO>0,]\n",
        "head(precios_melt)"
      ],
      "metadata": {
        "colab": {
          "base_uri": "https://localhost:8080/"
        },
        "id": "3clmSMQeNxjZ",
        "outputId": "13c8a23b-8d48-4e73-ccb9-932dc0d56ace"
      },
      "execution_count": null,
      "outputs": [
        {
          "output_type": "stream",
          "name": "stdout",
          "text": [
            "           PRODUCTO      FECHA PRECIO\n",
            "1               aji 2020-01-01   5.82\n",
            "2 aji amarillo seco 2020-01-01  10.61\n",
            "3     aji escabeche 2020-01-01   2.41\n",
            "4       aji montaña 2020-01-01   3.03\n",
            "5         aji panca 2020-01-01   7.99\n",
            "6       aji paprika 2020-01-01   9.25\n"
          ]
        }
      ]
    },
    {
      "cell_type": "code",
      "source": [],
      "metadata": {
        "id": "JzeGFThuhoX7"
      },
      "execution_count": null,
      "outputs": []
    }
  ]
}