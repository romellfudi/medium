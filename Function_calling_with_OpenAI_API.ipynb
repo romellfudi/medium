{
  "nbformat": 4,
  "nbformat_minor": 0,
  "metadata": {
    "colab": {
      "provenance": [],
      "include_colab_link": true
    },
    "kernelspec": {
      "name": "python3",
      "display_name": "Python 3"
    },
    "language_info": {
      "name": "python"
    }
  },
  "cells": [
    {
      "cell_type": "markdown",
      "metadata": {
        "id": "view-in-github",
        "colab_type": "text"
      },
      "source": [
        "<a href=\"https://colab.research.google.com/github/romellfudi/medium/blob/main/Function_calling_with_OpenAI_API.ipynb\" target=\"_parent\"><img src=\"https://colab.research.google.com/assets/colab-badge.svg\" alt=\"Open In Colab\"/></a>"
      ]
    },
    {
      "cell_type": "markdown",
      "source": [
        "https://platform.openai.com/docs/guides/gpt/function-calling"
      ],
      "metadata": {
        "id": "1XsquIMfsAuj"
      }
    },
    {
      "cell_type": "code",
      "execution_count": null,
      "metadata": {
        "id": "vwsVbzO9iT-Z",
        "cellView": "form"
      },
      "outputs": [],
      "source": [
        "#@title Installing python dependencies\n",
        "%%capture\n",
        "!pip install python-dotenv langchain openai tiktoken faiss-cpu  spotipy -q"
      ]
    },
    {
      "cell_type": "code",
      "source": [
        "#@title To Environment keys { display-mode: \"form\" }\n",
        "#@markdown Add your OPEN-API-KEY from [openai](https://openai.com/blog/openai-api)\n",
        "#@markdown and add your spotify dev credentials from [SpotifyDev](https://developer.spotify.com/dashboard)</br>\n",
        "#@markdown By default we use a developer-api-key\n",
        "\n",
        "openai_key = ''  #@param {type: \"string\"}\n",
        "spotipy_client_key = ''  #@param {type: \"string\"}\n",
        "spotipy_secret_key = ''  #@param {type: \"string\"}\n",
        "\n",
        "with open(\".env\", \"w\") as f:\n",
        "    f.write(f\"OPENAI_API_KEY={openai_key}\\n\")\n",
        "    f.write(f\"SPOTIPY_CLIENT_ID={spotipy_client_key}\\n\")\n",
        "    f.write(f\"SPOTIPY_CLIENT_SECRET={spotipy_secret_key}\\n\")\n",
        "\n",
        "print(\"Overwriting .env\")\n",
        "\n",
        "from dotenv import load_dotenv\n",
        "_=load_dotenv()"
      ],
      "metadata": {
        "colab": {
          "base_uri": "https://localhost:8080/"
        },
        "id": "_fr8-vH-jVex",
        "outputId": "f5099752-b8b5-42fd-b2aa-84817bcb393b"
      },
      "execution_count": null,
      "outputs": [
        {
          "output_type": "stream",
          "name": "stdout",
          "text": [
            "Overwriting .env\n"
          ]
        }
      ]
    },
    {
      "cell_type": "code",
      "source": [
        "import spotipy\n",
        "import os\n",
        "import openai\n",
        "from spotipy.oauth2 import SpotifyClientCredentials\n",
        "# Set up your Spotify API credentials\n",
        "client_credentials_manager = SpotifyClientCredentials()\n",
        "sp = spotipy.Spotify(client_credentials_manager=client_credentials_manager)"
      ],
      "metadata": {
        "id": "rGJb1FHQjfhh"
      },
      "execution_count": null,
      "outputs": []
    },
    {
      "cell_type": "code",
      "source": [
        "import json\n",
        "import pprint\n",
        "\n",
        "def list_latest_episode_of_spotify_show(show_name, limit=40):\n",
        "    \"\"\"Get the latest episodes of a determine show or episode in a given name\"\"\"\n",
        "    result_fetch = sp.search(show_name, limit=limit, offset=0, type='episode',market='ES')\n",
        "    final_list = []\n",
        "    for item in result_fetch['episodes']['items']:\n",
        "        if show_name.lower() in item['description'].lower():\n",
        "            final_list.append({'release_date':item['release_date'],'episode_name':item['name'],'url':item['external_urls']['spotify']})\n",
        "    final_list = sorted(final_list, key=lambda x: x['release_date'], reverse=True)\n",
        "    return json.dumps(final_list[:limit])"
      ],
      "metadata": {
        "id": "GlD3ZkH1pouc"
      },
      "execution_count": null,
      "outputs": []
    },
    {
      "cell_type": "code",
      "source": [
        "result_fetch = list_latest_episode_of_spotify_show('Globant',3)\n",
        "result_fetch"
      ],
      "metadata": {
        "colab": {
          "base_uri": "https://localhost:8080/",
          "height": 70
        },
        "id": "DjDTkYR3ttz6",
        "outputId": "8ce500f8-9ce3-43cb-9328-4709de153681"
      },
      "execution_count": null,
      "outputs": [
        {
          "output_type": "execute_result",
          "data": {
            "text/plain": [
              "'[{\"release_date\": \"2023-06-26\", \"episode_name\": \"Qu\\\\u00e9 es el Learning Match - Santos Videla (Globant)\", \"url\": \"https://open.spotify.com/episode/568pXcS72Cg9R8RlLsQCzP\"}, {\"release_date\": \"2023-06-20\", \"episode_name\": \"Argentinian tech giant Globant plans to double down on Europe: A chat with Fernando Matzkin, who\\'s leading the charge\", \"url\": \"https://open.spotify.com/episode/2e7tBHgZhlsnekzoCf1xus\"}, {\"release_date\": \"2023-06-13\", \"episode_name\": \"Entrevista a Andrey Luj\\\\u00e1n, Managing Director de Globant en Chile\", \"url\": \"https://open.spotify.com/episode/1lYESmQLnB4PABIqH4xJlO\"}]'"
            ],
            "application/vnd.google.colaboratory.intrinsic+json": {
              "type": "string"
            }
          },
          "metadata": {},
          "execution_count": 5
        }
      ]
    },
    {
      "cell_type": "code",
      "source": [
        "functions = [\n",
        "        {\n",
        "            \"name\": \"list_latest_episode_of_spotify_show\",\n",
        "            \"description\": \"Get the latest episodes  from Spotify shows or episodes in a given name\",\n",
        "            \"parameters\": {\n",
        "                \"type\": \"object\",\n",
        "                \"properties\": {\n",
        "                    \"show_name\": {\n",
        "                        \"type\": \"string\",\n",
        "                        \"description\": \"The name of the show or episode, e.g., Apple, Globant, Twitter, Amazon\",\n",
        "                    },\n",
        "                    \"limit\": {\n",
        "                        \"type\": \"integer\",\n",
        "                        \"description\": \"The maximum number of items to fetch\",\n",
        "                    },\n",
        "\n",
        "                },\n",
        "                \"required\": [\"show_name\"],\n",
        "            },\n",
        "        }\n",
        "    ]"
      ],
      "metadata": {
        "id": "qzOJx--fzElA"
      },
      "execution_count": null,
      "outputs": []
    },
    {
      "cell_type": "code",
      "source": [
        "messages = [{'role': 'user', 'content': 'Hello, I need your help to find postcasts in my Spotify'}]\n",
        "user_message=\"What are the latest ten episodes of Globant?\"\n",
        "messages.append({\"role\": \"user\", \"content\": user_message})\n",
        "completion= openai.ChatCompletion.create(\n",
        "    model=\"gpt-3.5-turbo\",\n",
        "    messages=messages,\n",
        "    functions=functions\n",
        ")"
      ],
      "metadata": {
        "id": "H8Iok3wA91ks"
      },
      "execution_count": null,
      "outputs": []
    },
    {
      "cell_type": "code",
      "source": [
        "response_function_calling=completion.choices[0].message\n",
        "response_function_calling"
      ],
      "metadata": {
        "colab": {
          "base_uri": "https://localhost:8080/"
        },
        "id": "yfCMk-NrBYRS",
        "outputId": "546345c7-77f8-4029-f1a9-39d26739b902"
      },
      "execution_count": null,
      "outputs": [
        {
          "output_type": "execute_result",
          "data": {
            "text/plain": [
              "<OpenAIObject at 0x7ff57ea42890> JSON: {\n",
              "  \"role\": \"assistant\",\n",
              "  \"content\": null,\n",
              "  \"function_call\": {\n",
              "    \"name\": \"list_latest_episode_of_spotify_show\",\n",
              "    \"arguments\": \"{\\n  \\\"show_name\\\": \\\"Globant\\\",\\n  \\\"limit\\\": 10\\n}\"\n",
              "  }\n",
              "}"
            ]
          },
          "metadata": {},
          "execution_count": 8
        }
      ]
    },
    {
      "cell_type": "code",
      "source": [
        "function_name=(response_function_calling['function_call'])['name']\n",
        "print(function_name)"
      ],
      "metadata": {
        "colab": {
          "base_uri": "https://localhost:8080/"
        },
        "id": "aQNVP5x7B8Wt",
        "outputId": "5697b50f-99ae-47df-c8e7-7a8f081c1a05"
      },
      "execution_count": null,
      "outputs": [
        {
          "output_type": "stream",
          "name": "stdout",
          "text": [
            "list_latest_episode_of_spotify_show\n"
          ]
        }
      ]
    },
    {
      "cell_type": "code",
      "source": [
        "import json\n",
        "show_name=eval(response_function_calling['function_call']['arguments'])['show_name']\n",
        "print(show_name)\n",
        "limit=eval(response_function_calling['function_call']['arguments'])['limit']\n",
        "print(limit)"
      ],
      "metadata": {
        "colab": {
          "base_uri": "https://localhost:8080/"
        },
        "id": "UVFBDy2qA0jM",
        "outputId": "1a44e118-8f90-412b-87de-04b170940dc4"
      },
      "execution_count": null,
      "outputs": [
        {
          "output_type": "stream",
          "name": "stdout",
          "text": [
            "Globant\n",
            "10\n"
          ]
        }
      ]
    },
    {
      "cell_type": "code",
      "source": [
        "arguments = json.loads(response_function_calling[\"function_call\"][\"arguments\"])\n",
        "arguments"
      ],
      "metadata": {
        "colab": {
          "base_uri": "https://localhost:8080/"
        },
        "id": "G8P2KTyZLuTz",
        "outputId": "4cdb066f-d16a-443f-a70e-32c4f35db578"
      },
      "execution_count": null,
      "outputs": [
        {
          "output_type": "execute_result",
          "data": {
            "text/plain": [
              "{'show_name': 'Globant', 'limit': 10}"
            ]
          },
          "metadata": {},
          "execution_count": 11
        }
      ]
    },
    {
      "cell_type": "code",
      "source": [
        "available_functions = {\n",
        "    'list_latest_episode_of_spotify_show': list_latest_episode_of_spotify_show\n",
        "}"
      ],
      "metadata": {
        "id": "T64iHV1xqkkL"
      },
      "execution_count": null,
      "outputs": []
    },
    {
      "cell_type": "code",
      "source": [
        "function_response = available_functions[function_name](\n",
        "    show_name=arguments.get(\"show_name\"),\n",
        "    limit=arguments.get(\"limit\"),\n",
        ")\n",
        "pprint.pprint(function_response, width=150)"
      ],
      "metadata": {
        "colab": {
          "base_uri": "https://localhost:8080/"
        },
        "id": "TKZoVhneiArY",
        "outputId": "463e1d9d-72de-4826-e8d1-a76cf4dbe596"
      },
      "execution_count": null,
      "outputs": [
        {
          "output_type": "stream",
          "name": "stdout",
          "text": [
            "('[{\"release_date\": \"2023-06-26\", \"episode_name\": \"Qu\\\\u00e9 es el Learning Match - Santos Videla (Globant)\", \"url\": '\n",
            " '\"https://open.spotify.com/episode/568pXcS72Cg9R8RlLsQCzP\"}, {\"release_date\": \"2023-06-20\", \"episode_name\": \"Argentinian tech giant Globant plans '\n",
            " 'to double down on Europe: A chat with Fernando Matzkin, who\\'s leading the charge\", \"url\": '\n",
            " '\"https://open.spotify.com/episode/2e7tBHgZhlsnekzoCf1xus\"}, {\"release_date\": \"2023-06-13\", \"episode_name\": \"Entrevista a Andrey Luj\\\\u00e1n, '\n",
            " 'Managing Director de Globant en Chile\", \"url\": \"https://open.spotify.com/episode/1lYESmQLnB4PABIqH4xJlO\"}, {\"release_date\": \"2023-02-17\", '\n",
            " '\"episode_name\": \"C\\\\u00f3mo sigue la deuda en pesos, cu\\\\u00e1ndo llegan los billetes de $2.000 y Globant rompe r\\\\u00e9cords\", \"url\": '\n",
            " '\"https://open.spotify.com/episode/3jusDSalZOXIpT29jmlaPS\"}, {\"release_date\": \"2023-01-13\", \"episode_name\": \"#4 Elena Morettini, Global Head '\n",
            " 'Sustainable Business en Globant\", \"url\": \"https://open.spotify.com/episode/6uzo9K9ydjWjlRuLU6AN8u\"}, {\"release_date\": \"2023-01-11\", '\n",
            " '\"episode_name\": \"Alerta por los activos de los bancos, cu\\\\u00e1nto crecer\\\\u00e1 el PBI en 2023 y adquisici\\\\u00f3n de Globant\", \"url\": '\n",
            " '\"https://open.spotify.com/episode/5ArNty2xDDuueBot8j6w6z\"}, {\"release_date\": \"2022-10-12\", \"episode_name\": \"Q&A con Nicol\\\\u00e1s Dujovne, los '\n",
            " 'planes de Migoya para Globant y el ajuste de las jubilaciones en 2023\", \"url\": \"https://open.spotify.com/episode/2HTdIPM0aSuO9JjkHnldzS\"}, '\n",
            " '{\"release_date\": \"2022-06-03\", \"episode_name\": \"Una alianza que potencia la experiencia de cliente, YPF y Globant.\", \"url\": '\n",
            " '\"https://open.spotify.com/episode/47pXZNEZqkT4H6TiIOlrsT\"}, {\"release_date\": \"2022-04-19\", \"episode_name\": \"El caso Globant: \\\\u00bfC\\\\u00f3mo se '\n",
            " 'construy\\\\u00f3 un unicornio argentino?\", \"url\": \"https://open.spotify.com/episode/4LAgh6AUVRKGoDJJmjDueO\"}, {\"release_date\": \"2022-04-13\", '\n",
            " '\"episode_name\": \"#16 - Por uma nova forma de aprendizado: case FIAP e Globant \", \"url\": '\n",
            " '\"https://open.spotify.com/episode/3gR76J5tN22FeL38ZgcJ1j\"}]')\n"
          ]
        }
      ]
    },
    {
      "cell_type": "code",
      "source": [
        "import pprint\n",
        "result_data = list_latest_episode_of_spotify_show('Google', limit=50)\n",
        "result_list = json.loads(result_data)\n",
        "pprint.pprint([data['episode_name'] for data in result_list])"
      ],
      "metadata": {
        "colab": {
          "base_uri": "https://localhost:8080/"
        },
        "id": "2YnPnR2rC4Jw",
        "outputId": "49f29484-b78f-4f8e-9932-c01216f739a4"
      },
      "execution_count": null,
      "outputs": [
        {
          "output_type": "stream",
          "name": "stdout",
          "text": [
            "['The Ultimate Spy Tool for Google Ads: Get Ahead of Your Competitors Now',\n",
            " '🟢 Consultorio de Bolsa | ¿Oro físico? ¿Google? ¿Aerolíneas?',\n",
            " '178. The Keyword Connection: Bridging Google Shopping Ads and SEO for '\n",
            " 'Ultimate Success',\n",
            " 'BONUS Episode! Automating Your Google Ads - Keywords & Bidding (Episode '\n",
            " '#365)',\n",
            " 'Uso da IA para desenvolvedores',\n",
            " '#042 Google Ads für lokale Unternehmen',\n",
            " 'Google se ríe de Apple, precio del Nothing Phone 2 y Peso Pluma | Ep25 S04',\n",
            " 'Staying One Step Ahead: Expert Tips to Protect Your Business from Dirty '\n",
            " 'Competition',\n",
            " 'Google y su solución al problema de las imágenes generadas por IA',\n",
            " 'Getting Started with Google Ads in your Shopify Store',\n",
            " '¿Qué opinan los que han probado el nuevo Google SGE? - Actualidad SEO #221',\n",
            " 'Google’s Sundar Pichai Talks Seach, AI, and Dancing with Microsoft',\n",
            " '#041 Augen auf bei der Google Ads Agenturwahl',\n",
            " 'Nacer en GOOGLE, pasar por WAZE y fundar VIVLA: La Historia de Carlos Gómez '\n",
            " '- Podcast #289',\n",
            " '#1138 - O Google Não Faz Milagres',\n",
            " 'Google MATA al Pixel 8, Nothing Phone 2 ES UN MEME y Miguel SE LÍA!!! | Ep '\n",
            " '24 S04',\n",
            " 'El Pixel Drop de Google viene cargado de nuevas herramientas y '\n",
            " 'actualizaciones para Pixel',\n",
            " 'Building a long and meaningful career | Nikhyl Singhal (Meta, Google) ',\n",
            " '#196 VIDEOPODCAST: Čo množstvo firiem o Google Analytics 4 nevie a mali by?',\n",
            " '75 AI Marketing Tools + The AI Tool We Use for Google Ads',\n",
            " 'Las acciones SEO que mejor funcionan en Google, con Alejandro Novoa #219',\n",
            " 'Guía de Google Analytics 4 (GA4) para PYMES',\n",
            " 'E252: EMERGENCY EPISODE: Ex-Google Officer Finally Speaks Out On The Dangers '\n",
            " 'Of AI! - Mo Gawdat',\n",
            " \"Google Wins The AI War, Here's How…\",\n",
            " 'O Novo Google Ads',\n",
            " 'StartSeTech #34 | Desespero? Google I/O 2023 reflete momento de IA na big '\n",
            " 'tech',\n",
            " 'El Evento de Google y el Crowdfunding de Vicio - Tertulia #55',\n",
            " 'E128: Google enters AI wars, Druck’s warning, Trump crushes CNN & more',\n",
            " 'Carlos madrileño, GOOGLE está LOCO, el P60 Pro y el SONY TERMINATOR | Ep19 '\n",
            " 'S04',\n",
            " 'Google 量子糾錯技術創下新里程碑！地下探測器終於偵測到反微中子？超清晰天王星環美照亮相！【科科報報 EP12】',\n",
            " 'How + Why to Set Up a Google Business Profile',\n",
            " 'You Need A Google Business Profile For Your Business',\n",
            " 'Googleの根幹になった論文を読む。検索エンジンの解剖。【Google1】#42',\n",
            " 'Ep241 - Aswath Damodaran | Valuation in Four Lessons',\n",
            " 'La Internet, Google']\n"
          ]
        }
      ]
    },
    {
      "cell_type": "code",
      "source": [
        "%%writefile spotify_utils.py\n",
        "import json\n",
        "import spotipy\n",
        "from spotipy.oauth2 import SpotifyClientCredentials\n",
        "\n",
        "client_credentials_manager = SpotifyClientCredentials()\n",
        "sp = spotipy.Spotify(client_credentials_manager=client_credentials_manager)\n",
        "\n",
        "def list_latest_episode_of_spotify_show(show_name, limit=20):\n",
        "    \"\"\"Get the latest episodes of a determine show or episode in a given name\"\"\"\n",
        "    result_fetch = sp.search(show_name, limit=40, offset=0, type='episode',market='ES')\n",
        "    final_list = []\n",
        "    for item in result_fetch['episodes']['items']:\n",
        "        if show_name.lower() in item['description'].lower():\n",
        "            final_list.append({'release_date':item['release_date'],'episode_name':item['name'],'url':item['external_urls']['spotify']})\n",
        "    final_list = sorted(final_list, key=lambda x: x['release_date'], reverse=True)\n",
        "    return json.dumps(final_list[:limit])"
      ],
      "metadata": {
        "colab": {
          "base_uri": "https://localhost:8080/"
        },
        "id": "BKWM-mwR1I7f",
        "outputId": "f86bf4ba-026d-41b6-d8d5-f45e91c7759d"
      },
      "execution_count": null,
      "outputs": [
        {
          "output_type": "stream",
          "name": "stdout",
          "text": [
            "Writing spotify_utils.py\n"
          ]
        }
      ]
    },
    {
      "cell_type": "code",
      "source": [
        "import spotify_utils\n",
        "function_object = getattr(spotify_utils, function_name)\n",
        "function_response = function_object(**arguments)\n",
        "pprint.pprint(function_response, width=150)"
      ],
      "metadata": {
        "colab": {
          "base_uri": "https://localhost:8080/"
        },
        "id": "sPevyy6M0ivz",
        "outputId": "36d14831-cc67-41ae-f66f-e1c4e8ddaf40"
      },
      "execution_count": null,
      "outputs": [
        {
          "output_type": "stream",
          "name": "stdout",
          "text": [
            "('[{\"release_date\": \"2023-06-26\", \"episode_name\": \"Qu\\\\u00e9 es el Learning Match - Santos Videla (Globant)\", \"url\": '\n",
            " '\"https://open.spotify.com/episode/568pXcS72Cg9R8RlLsQCzP\"}, {\"release_date\": \"2023-06-20\", \"episode_name\": \"Argentinian tech giant Globant plans '\n",
            " 'to double down on Europe: A chat with Fernando Matzkin, who\\'s leading the charge\", \"url\": '\n",
            " '\"https://open.spotify.com/episode/2e7tBHgZhlsnekzoCf1xus\"}, {\"release_date\": \"2023-06-13\", \"episode_name\": \"Entrevista a Andrey Luj\\\\u00e1n, '\n",
            " 'Managing Director de Globant en Chile\", \"url\": \"https://open.spotify.com/episode/1lYESmQLnB4PABIqH4xJlO\"}, {\"release_date\": \"2023-02-17\", '\n",
            " '\"episode_name\": \"C\\\\u00f3mo sigue la deuda en pesos, cu\\\\u00e1ndo llegan los billetes de $2.000 y Globant rompe r\\\\u00e9cords\", \"url\": '\n",
            " '\"https://open.spotify.com/episode/3jusDSalZOXIpT29jmlaPS\"}, {\"release_date\": \"2023-01-13\", \"episode_name\": \"#4 Elena Morettini, Global Head '\n",
            " 'Sustainable Business en Globant\", \"url\": \"https://open.spotify.com/episode/6uzo9K9ydjWjlRuLU6AN8u\"}, {\"release_date\": \"2023-01-11\", '\n",
            " '\"episode_name\": \"Alerta por los activos de los bancos, cu\\\\u00e1nto crecer\\\\u00e1 el PBI en 2023 y adquisici\\\\u00f3n de Globant\", \"url\": '\n",
            " '\"https://open.spotify.com/episode/5ArNty2xDDuueBot8j6w6z\"}, {\"release_date\": \"2022-10-12\", \"episode_name\": \"Q&A con Nicol\\\\u00e1s Dujovne, los '\n",
            " 'planes de Migoya para Globant y el ajuste de las jubilaciones en 2023\", \"url\": \"https://open.spotify.com/episode/2HTdIPM0aSuO9JjkHnldzS\"}, '\n",
            " '{\"release_date\": \"2022-06-03\", \"episode_name\": \"Una alianza que potencia la experiencia de cliente, YPF y Globant.\", \"url\": '\n",
            " '\"https://open.spotify.com/episode/47pXZNEZqkT4H6TiIOlrsT\"}, {\"release_date\": \"2022-04-19\", \"episode_name\": \"El caso Globant: \\\\u00bfC\\\\u00f3mo se '\n",
            " 'construy\\\\u00f3 un unicornio argentino?\", \"url\": \"https://open.spotify.com/episode/4LAgh6AUVRKGoDJJmjDueO\"}, {\"release_date\": \"2022-04-13\", '\n",
            " '\"episode_name\": \"#16 - Por uma nova forma de aprendizado: case FIAP e Globant \", \"url\": '\n",
            " '\"https://open.spotify.com/episode/3gR76J5tN22FeL38ZgcJ1j\"}]')\n"
          ]
        }
      ]
    },
    {
      "cell_type": "code",
      "source": [
        "def askToSpotifyBot(user_input, functions=functions):\n",
        "    \"\"\"\n",
        "    Interacts with a Spotify bot to find podcasts and return a list with markdown links.\n",
        "\n",
        "    Args:\n",
        "        user_input (str): The user's input/query.\n",
        "        functions (dict): A dictionary containing available functions for interaction.\n",
        "\n",
        "    Returns:\n",
        "        str: Formatted response containing podcast list or function output.\n",
        "    \"\"\"\n",
        "\n",
        "    # Initial system message\n",
        "    messages = [{'role': 'system', 'content': \"\"\"\n",
        "        You are an assistant helping me find podcasts on Spotify and returning the entire list.\n",
        "        Please reply in markdown format and add the link at the end of each episode using [Listen here](url)\"\"\" }]\n",
        "\n",
        "    # Add user input to messages\n",
        "    messages.append({\"role\": \"user\", \"content\": user_input})\n",
        "\n",
        "    # Call the GPT-3 model for initial completion\n",
        "    completion = openai.ChatCompletion.create(\n",
        "        model=\"gpt-3.5-turbo\",\n",
        "        messages=messages,\n",
        "        functions=functions\n",
        "    )\n",
        "\n",
        "    response_function_calling = completion.choices[0].message\n",
        "\n",
        "    if response_function_calling is not None and response_function_calling.get('function_call'):\n",
        "        # If a function call is detected\n",
        "        function_name = response_function_calling['function_call']['name']\n",
        "        function_args = json.loads(response_function_calling[\"function_call\"][\"arguments\"])\n",
        "        function_response = available_functions[function_name](**function_args)\n",
        "\n",
        "        # Call GPT-3 again with function response\n",
        "        _response = openai.ChatCompletion.create(\n",
        "            model=\"gpt-3.5-turbo\",\n",
        "            messages=[\n",
        "                {\"role\": \"user\", \"content\": user_input},\n",
        "                response_function_calling,\n",
        "                {\n",
        "                    \"role\": \"function\",\n",
        "                    \"name\": function_name,\n",
        "                    \"content\": function_response,\n",
        "                },\n",
        "            ],\n",
        "            functions=functions\n",
        "        )\n",
        "\n",
        "        return _response.choices[0][\"message\"][\"content\"].strip()\n",
        "\n",
        "    else:\n",
        "        # If no function call detected, return the initial completion\n",
        "        return completion.choices[0][\"message\"][\"content\"].strip()\n"
      ],
      "metadata": {
        "id": "R4m2GxlgbWag"
      },
      "execution_count": null,
      "outputs": []
    },
    {
      "cell_type": "code",
      "source": [
        "from IPython.display import Markdown\n",
        "Markdown(askToSpotifyBot(\"What are the latest 7 episodes of Twitter? Be concise\"))"
      ],
      "metadata": {
        "colab": {
          "base_uri": "https://localhost:8080/",
          "height": 190
        },
        "id": "9XhMATDgiAnw",
        "outputId": "a49a56c4-493c-4f46-bee2-c16e1c033f34"
      },
      "execution_count": null,
      "outputs": [
        {
          "output_type": "execute_result",
          "data": {
            "text/plain": [
              "<IPython.core.display.Markdown object>"
            ],
            "text/markdown": "Here are the latest 7 episodes of Twitter:\n\n1. \"Campaigns Look To Court, France Seeks Calm, Twitter Rations Views\" - [Listen Here](https://open.spotify.com/episode/2jsAw80HftkrlSaCa6KV1y)\n2. \"Peak social media: Trouble at Twitter\" - [Listen Here](https://open.spotify.com/episode/12QgP7MQGE52vRsIUK6AqU)\n3. \"#387 – George Hotz: Tiny Corp, Twitter, AI Safety, Self-Driving, GPT, AGI & God\" - [Listen Here](https://open.spotify.com/episode/0TA2uCZUQDF8AdF5dUofAi)\n4. \"#STR50 To Be Directed By...? | Twitter Time Pass Space\" - [Listen Here](https://open.spotify.com/episode/5TBS88QL3C121WoSUM9ih7)\n5. \"Neues vom Twitter-Stresstest (mit Frederik von Castell)\" - [Listen Here](https://open.spotify.com/episode/7ff4j9ccXCMDmFRO1v24AW)\n6. \"Tesla’s Rising Value, Meta’s AI, and Twitter’s Ad Problem\" - [Listen Here](https://open.spotify.com/episode/7dfBNbULR4RBRFlpfzD49t)\n7. \"Mari Selvaraj Controversial Issue Is The Promotional Stunt For The Release Of Maamannan Movie? - Twitter Time Pass Space\" - [Listen Here](https://open.spotify.com/episode/1vqzLETmQzsMimrwlh3xjf)"
          },
          "metadata": {},
          "execution_count": 18
        }
      ]
    },
    {
      "cell_type": "code",
      "source": [
        "Markdown(askToSpotifyBot(\"What are the latest 8 episodes of Globant? Group by year\"))"
      ],
      "metadata": {
        "colab": {
          "base_uri": "https://localhost:8080/",
          "height": 320
        },
        "id": "6hbPqoCJiAjZ",
        "outputId": "02dd26e3-d85f-4656-d8dc-697c59adbe68"
      },
      "execution_count": null,
      "outputs": [
        {
          "output_type": "execute_result",
          "data": {
            "text/plain": [
              "<IPython.core.display.Markdown object>"
            ],
            "text/markdown": "The latest 8 episodes of Globant, grouped by year, are as follows:\n\n2023:\n- \"Qué es el Learning Match - Santos Videla (Globant)\" - Released on June 26th. [Listen here](https://open.spotify.com/episode/568pXcS72Cg9R8RlLsQCzP)\n- \"Argentinian tech giant Globant plans to double down on Europe: A chat with Fernando Matzkin, who's leading the charge\" - Released on June 20th. [Listen here](https://open.spotify.com/episode/2e7tBHgZhlsnekzoCf1xus)\n- \"Entrevista a Andrey Luján, Managing Director de Globant en Chile\" - Released on June 13th. [Listen here](https://open.spotify.com/episode/1lYESmQLnB4PABIqH4xJlO)\n\n2022:\n- \"Cómo sigue la deuda en pesos, cuándo llegan los billetes de $2.000 y Globant rompe récords\" - Released on February 17th. [Listen here](https://open.spotify.com/episode/3jusDSalZOXIpT29jmlaPS)\n- \"#4 Elena Morettini, Global Head Sustainable Business en Globant\" - Released on January 13th. [Listen here](https://open.spotify.com/episode/6uzo9K9ydjWjlRuLU6AN8u)\n- \"Alerta por los activos de los bancos, cuánto crecerá el PBI en 2023 y adquisición de Globant\" - Released on January 11th. [Listen here](https://open.spotify.com/episode/5ArNty2xDDuueBot8j6w6z)\n\n2021:\n- \"Q&A con Nicolás Dujovne, los planes de Migoya para Globant y el ajuste de las jubilaciones en 2023\" - Released on October 12th. [Listen here](https://open.spotify.com/episode/2HTdIPM0aSuO9JjkHnldzS)\n\n2020:\n- \"Una alianza que potencia la experiencia de cliente, YPF y Globant.\" - Released on June 3rd. [Listen here](https://open.spotify.com/episode/47pXZNEZqkT4H6TiIOlrsT)"
          },
          "metadata": {},
          "execution_count": 45
        }
      ]
    },
    {
      "cell_type": "code",
      "source": [
        "Markdown(askToSpotifyBot(\"What are the latest 15 episodes of Bitcoin? Group by month and change 'Listen here' link to 'Escuchame'\"))"
      ],
      "metadata": {
        "id": "_syQpdFJhFow",
        "colab": {
          "base_uri": "https://localhost:8080/",
          "height": 365
        },
        "outputId": "b13a28f4-c5cb-4bd7-d5e1-7a1798783343"
      },
      "execution_count": null,
      "outputs": [
        {
          "output_type": "execute_result",
          "data": {
            "text/plain": [
              "<IPython.core.display.Markdown object>"
            ],
            "text/markdown": "Here are the latest 15 episodes of Bitcoin grouped by month:\n\n- July 2023:\n  - Hola, instituciones: Bitcoin viene a pegar fuerte - [Escuchame](https://open.spotify.com/episode/329uVB6Zl3MsGKDHQCZNUz)\n\n- June 2023:\n  - 817 Empresas millonarias ¿Pueden acaparar las compras de bitcoin? - [Escuchame](https://open.spotify.com/episode/4Juq0UwLbVy3rlXOQI4XZV)\n  - L196 - El adiós a España de la Familia Bitcoin - [Escuchame](https://open.spotify.com/episode/0m03EWBBXa2iWy9u0QrLs2)\n  - ¿Qué hay que saber sobre la propuesta de ETF Bitcoin de Blackrock? - [Escuchame](https://open.spotify.com/episode/0uBCAOgXROI4bcO7eql2p0)\n  - BBVA y el bitcoin, euríbor, Endesa, Iberdrola e Indra - [Escuchame](https://open.spotify.com/episode/06gemnHN4YKdKs1OvrRDkm)\n  - 813 Dispositivos DIY para... ¿MINAR BITCOIN? - [Escuchame](https://open.spotify.com/episode/4R1kNQsL0C9OnUptEj08io)\n  - Yago Álvarez Barba: El momento en que Bitcoin perdió su potencial - [Escuchame](https://open.spotify.com/episode/4J9JxABzXWZnGXTP8DUF6k)\n  - Episode 163 - Bitcoin, ETF & Regulation - Chancen und Risiken - [Escuchame](https://open.spotify.com/episode/1EBBqjGsQpgn1kT00DkHo0)\n  - BITCOIN: SALIDA DE EMERGENCIA - Vlog de Marc Vidal - [Escuchame](https://open.spotify.com/episode/3mP3f2D8wmjt2pTRlS4rN6)\n  - L195 - Bitcoin es peor es mejor por Gwern Branwen - [Escuchame](https://open.spotify.com/episode/3XnuubEHXcgl2yHVx84jeI)\n  - S05E24 - Mister Bitcoin Standard - [Escuchame](https://open.spotify.com/episode/7LiX8sXq3MNBCnPawxQopD)\n  - El culto a Bitcoin - [Escuchame](https://open.spotify.com/episode/0ICfefzUbWHZrZRx2AYNRF)\n  - 811 Binance aceptará lightning network - [Escuchame](https://open.spotify.com/episode/5DRUAozUxTTvr6SYGvGYgO)\n  - Manuel Beaudroit: Por qué estar en Bitcoin - [Escuchame](https://open.spotify.com/episode/0BZX6aRQYbWB0HSi7v6BDt)\n  - Episode 162 - Cointracking: Bitcoin-Steuern dokumentieren & Steuerreports erstellen mit Moritz Nold - [Escuchame](https://open.spotify.com/episode/7h62pfQVRwWQy3XHRgh94i)"
          },
          "metadata": {},
          "execution_count": 57
        }
      ]
    },
    {
      "cell_type": "code",
      "source": [],
      "metadata": {
        "id": "D5iv9Zpban-b"
      },
      "execution_count": null,
      "outputs": []
    }
  ]
}