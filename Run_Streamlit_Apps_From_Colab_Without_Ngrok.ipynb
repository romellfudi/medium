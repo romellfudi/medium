{
  "nbformat": 4,
  "nbformat_minor": 0,
  "metadata": {
    "colab": {
      "provenance": [],
      "include_colab_link": true
    },
    "kernelspec": {
      "name": "python3",
      "display_name": "Python 3"
    },
    "language_info": {
      "name": "python"
    }
  },
  "cells": [
    {
      "cell_type": "markdown",
      "metadata": {
        "id": "view-in-github",
        "colab_type": "text"
      },
      "source": [
        "<a href=\"https://colab.research.google.com/github/romellfudi/medium/blob/main/Run_Streamlit_Apps_From_Colab_Without_Ngrok.ipynb\" target=\"_parent\"><img src=\"https://colab.research.google.com/assets/colab-badge.svg\" alt=\"Open In Colab\"/></a>"
      ]
    },
    {
      "cell_type": "code",
      "metadata": {
        "id": "q_PpM-69swti"
      },
      "source": [
        "%%capture\n",
        "!pip install -q streamlit"
      ],
      "execution_count": 1,
      "outputs": []
    },
    {
      "cell_type": "code",
      "source": [
        "!pip install -q --upgrade protobuf"
      ],
      "metadata": {
        "colab": {
          "base_uri": "https://localhost:8080/"
        },
        "id": "AsdetVkVwixO",
        "outputId": "3f4cd9ea-e4ae-4fe9-e3ec-4d7d18231b30"
      },
      "execution_count": 2,
      "outputs": [
        {
          "output_type": "stream",
          "name": "stdout",
          "text": [
            "\u001b[?25l\r\u001b[K     |▉                               | 10 kB 27.9 MB/s eta 0:00:01\r\u001b[K     |█▋                              | 20 kB 36.3 MB/s eta 0:00:01\r\u001b[K     |██▍                             | 30 kB 44.9 MB/s eta 0:00:01\r\u001b[K     |███▏                            | 40 kB 22.2 MB/s eta 0:00:01\r\u001b[K     |████                            | 51 kB 24.5 MB/s eta 0:00:01\r\u001b[K     |████▉                           | 61 kB 27.7 MB/s eta 0:00:01\r\u001b[K     |█████▋                          | 71 kB 25.2 MB/s eta 0:00:01\r\u001b[K     |██████▍                         | 81 kB 27.4 MB/s eta 0:00:01\r\u001b[K     |███████▏                        | 92 kB 25.5 MB/s eta 0:00:01\r\u001b[K     |████████                        | 102 kB 24.9 MB/s eta 0:00:01\r\u001b[K     |████████▉                       | 112 kB 24.9 MB/s eta 0:00:01\r\u001b[K     |█████████▋                      | 122 kB 24.9 MB/s eta 0:00:01\r\u001b[K     |██████████▍                     | 133 kB 24.9 MB/s eta 0:00:01\r\u001b[K     |███████████▏                    | 143 kB 24.9 MB/s eta 0:00:01\r\u001b[K     |████████████                    | 153 kB 24.9 MB/s eta 0:00:01\r\u001b[K     |████████████▉                   | 163 kB 24.9 MB/s eta 0:00:01\r\u001b[K     |█████████████▋                  | 174 kB 24.9 MB/s eta 0:00:01\r\u001b[K     |██████████████▍                 | 184 kB 24.9 MB/s eta 0:00:01\r\u001b[K     |███████████████▏                | 194 kB 24.9 MB/s eta 0:00:01\r\u001b[K     |████████████████                | 204 kB 24.9 MB/s eta 0:00:01\r\u001b[K     |████████████████▉               | 215 kB 24.9 MB/s eta 0:00:01\r\u001b[K     |█████████████████▋              | 225 kB 24.9 MB/s eta 0:00:01\r\u001b[K     |██████████████████▍             | 235 kB 24.9 MB/s eta 0:00:01\r\u001b[K     |███████████████████▏            | 245 kB 24.9 MB/s eta 0:00:01\r\u001b[K     |████████████████████            | 256 kB 24.9 MB/s eta 0:00:01\r\u001b[K     |████████████████████▉           | 266 kB 24.9 MB/s eta 0:00:01\r\u001b[K     |█████████████████████▋          | 276 kB 24.9 MB/s eta 0:00:01\r\u001b[K     |██████████████████████▍         | 286 kB 24.9 MB/s eta 0:00:01\r\u001b[K     |███████████████████████▏        | 296 kB 24.9 MB/s eta 0:00:01\r\u001b[K     |████████████████████████        | 307 kB 24.9 MB/s eta 0:00:01\r\u001b[K     |████████████████████████▉       | 317 kB 24.9 MB/s eta 0:00:01\r\u001b[K     |█████████████████████████▋      | 327 kB 24.9 MB/s eta 0:00:01\r\u001b[K     |██████████████████████████▍     | 337 kB 24.9 MB/s eta 0:00:01\r\u001b[K     |███████████████████████████▏    | 348 kB 24.9 MB/s eta 0:00:01\r\u001b[K     |████████████████████████████    | 358 kB 24.9 MB/s eta 0:00:01\r\u001b[K     |████████████████████████████▉   | 368 kB 24.9 MB/s eta 0:00:01\r\u001b[K     |█████████████████████████████▋  | 378 kB 24.9 MB/s eta 0:00:01\r\u001b[K     |██████████████████████████████▍ | 389 kB 24.9 MB/s eta 0:00:01\r\u001b[K     |███████████████████████████████▏| 399 kB 24.9 MB/s eta 0:00:01\r\u001b[K     |████████████████████████████████| 409 kB 24.9 MB/s eta 0:00:01\r\u001b[K     |████████████████████████████████| 409 kB 24.9 MB/s \n",
            "\u001b[31mERROR: pip's dependency resolver does not currently take into account all the packages that are installed. This behaviour is the source of the following dependency conflicts.\n",
            "tensorflow 2.9.2 requires protobuf<3.20,>=3.9.2, but you have protobuf 4.21.12 which is incompatible.\n",
            "tensorflow-metadata 1.12.0 requires protobuf<4,>=3.13, but you have protobuf 4.21.12 which is incompatible.\n",
            "tensorboard 2.9.1 requires protobuf<3.20,>=3.9.2, but you have protobuf 4.21.12 which is incompatible.\n",
            "streamlit 1.16.0 requires protobuf<4,>=3.12, but you have protobuf 4.21.12 which is incompatible.\u001b[0m\n",
            "\u001b[?25h"
          ]
        }
      ]
    },
    {
      "cell_type": "code",
      "metadata": {
        "id": "Dr4W1doKs2tr",
        "colab": {
          "base_uri": "https://localhost:8080/"
        },
        "outputId": "82442070-4a05-446a-8b38-26391062fdee"
      },
      "source": [
        "!curl -o favicon.ico https://raw.githubusercontent.com/romellfudi/assets/master/favicon.ico"
      ],
      "execution_count": 3,
      "outputs": [
        {
          "output_type": "stream",
          "name": "stdout",
          "text": [
            "  % Total    % Received % Xferd  Average Speed   Time    Time     Time  Current\n",
            "                                 Dload  Upload   Total   Spent    Left  Speed\n",
            "\r  0     0    0     0    0     0      0      0 --:--:-- --:--:-- --:--:--     0\r100 67646  100 67646    0     0   611k      0 --:--:-- --:--:-- --:--:--  611k\n"
          ]
        }
      ]
    },
    {
      "cell_type": "code",
      "metadata": {
        "id": "P2tj_aJYs4fb",
        "colab": {
          "base_uri": "https://localhost:8080/"
        },
        "outputId": "4b533339-7e48-4d71-b042-4429a0db239d"
      },
      "source": [
        "%%writefile app.py\n",
        "import streamlit as st\n",
        "from PIL import Image\n",
        "favicon = Image.open(\"favicon.ico\")\n",
        "st.set_page_config(page_title='⭐️Romellfudi Github Star Tracking ⭐️', page_icon = favicon, layout = 'wide', initial_sidebar_state = 'auto')\n",
        "hide_st_style = \"\"\"\n",
        "            <style>\n",
        "            #MainMenu {visibility: hidden;}\n",
        "            footer {visibility: hidden;}\n",
        "            header {visibility: hidden;}\n",
        "            </style>\n",
        "            \"\"\"\n",
        "\n",
        "st.markdown(hide_st_style, unsafe_allow_html=True)"
      ],
      "execution_count": null,
      "outputs": [
        {
          "output_type": "stream",
          "name": "stdout",
          "text": [
            "Overwriting app.py\n"
          ]
        }
      ]
    },
    {
      "cell_type": "code",
      "source": [
        "!streamlit run app.py"
      ],
      "metadata": {
        "colab": {
          "base_uri": "https://localhost:8080/"
        },
        "id": "4M3LD8_m7_W4",
        "outputId": "4ad54c60-4eb4-4be0-f3aa-f04aa5c6e7b8"
      },
      "execution_count": null,
      "outputs": [
        {
          "output_type": "stream",
          "name": "stdout",
          "text": [
            "\n",
            "Collecting usage statistics. To deactivate, set browser.gatherUsageStats to False.\n",
            "\u001b[0m\n",
            "\u001b[0m\n",
            "\u001b[34m\u001b[1m  You can now view your Streamlit app in your browser.\u001b[0m\n",
            "\u001b[0m\n",
            "\u001b[34m  Network URL: \u001b[0m\u001b[1mhttp://172.28.0.12:8502\u001b[0m\n",
            "\u001b[34m  External URL: \u001b[0m\u001b[1mhttp://35.185.19.201:8502\u001b[0m\n",
            "\u001b[0m\n",
            "\u001b[34m  Stopping...\u001b[0m\n"
          ]
        }
      ]
    },
    {
      "cell_type": "code",
      "source": [
        "from google.colab import output\n",
        "# output.serve_kernel_port_as_iframe(port)\n",
        "display(output.serve_kernel_port_as_window(8501));"
      ],
      "metadata": {
        "colab": {
          "base_uri": "https://localhost:8080/",
          "height": 52
        },
        "id": "xYP_8bYx09fL",
        "outputId": "5d0d9f71-e0d0-4a49-f373-e8d2eb8d2fc1"
      },
      "execution_count": null,
      "outputs": [
        {
          "output_type": "display_data",
          "data": {
            "text/plain": [
              "<IPython.core.display.Javascript object>"
            ],
            "application/javascript": [
              "(async (port, path, text, element) => {\n",
              "    if (!google.colab.kernel.accessAllowed) {\n",
              "      return;\n",
              "    }\n",
              "    element.appendChild(document.createTextNode(''));\n",
              "    const url = await google.colab.kernel.proxyPort(port);\n",
              "    const anchor = document.createElement('a');\n",
              "    anchor.href = new URL(path, url).toString();\n",
              "    anchor.target = '_blank';\n",
              "    anchor.setAttribute('data-href', url + path);\n",
              "    anchor.textContent = text;\n",
              "    element.appendChild(anchor);\n",
              "  })(8501, \"/\", \"https://localhost:8501/\", window.element)"
            ]
          },
          "metadata": {}
        },
        {
          "output_type": "display_data",
          "data": {
            "text/plain": [
              "None"
            ]
          },
          "metadata": {}
        }
      ]
    },
    {
      "cell_type": "code",
      "metadata": {
        "id": "ygKRB6jus-n3",
        "colab": {
          "base_uri": "https://localhost:8080/"
        },
        "outputId": "1d4f863c-e893-40f9-ac34-42cb27af6bd0"
      },
      "source": [
        "!streamlit run app.py"
      ],
      "execution_count": null,
      "outputs": [
        {
          "output_type": "stream",
          "name": "stdout",
          "text": [
            "\n",
            "Collecting usage statistics. To deactivate, set browser.gatherUsageStats to False.\n",
            "\u001b[0m\n",
            "\u001b[0m\n",
            "\u001b[34m\u001b[1m  You can now view your Streamlit app in your browser.\u001b[0m\n",
            "\u001b[0m\n",
            "\u001b[34m  Network URL: \u001b[0m\u001b[1mhttp://172.28.0.12:8501\u001b[0m\n",
            "\u001b[34m  External URL: \u001b[0m\u001b[1mhttp://35.185.19.201:8501\u001b[0m\n",
            "\u001b[0m\n",
            "\u001b[34m  Stopping...\u001b[0m\n",
            "\u001b[34m  Stopping...\u001b[0m\n"
          ]
        }
      ]
    },
    {
      "cell_type": "code",
      "source": [
        "!git clone https://github.com/tylerjrichards/streamlit_goodreads_app.git"
      ],
      "metadata": {
        "colab": {
          "base_uri": "https://localhost:8080/"
        },
        "id": "IzcMw_KQ09bg",
        "outputId": "32950878-1e68-43c2-9ce8-11c9971df85d"
      },
      "execution_count": 4,
      "outputs": [
        {
          "output_type": "stream",
          "name": "stdout",
          "text": [
            "Cloning into 'streamlit_goodreads_app'...\n",
            "remote: Enumerating objects: 1065, done.\u001b[K\n",
            "remote: Counting objects: 100% (147/147), done.\u001b[K\n",
            "remote: Compressing objects: 100% (82/82), done.\u001b[K\n",
            "remote: Total 1065 (delta 75), reused 125 (delta 57), pack-reused 918\u001b[K\n",
            "Receiving objects: 100% (1065/1065), 10.26 MiB | 43.07 MiB/s, done.\n",
            "Resolving deltas: 100% (161/161), done.\n"
          ]
        }
      ]
    },
    {
      "cell_type": "code",
      "source": [
        "%cd /content/streamlit_goodreads_app"
      ],
      "metadata": {
        "colab": {
          "base_uri": "https://localhost:8080/"
        },
        "id": "jL_FWWJY09XH",
        "outputId": "206e1cf4-b343-4e18-89b1-7cd052b33d33"
      },
      "execution_count": 5,
      "outputs": [
        {
          "output_type": "stream",
          "name": "stdout",
          "text": [
            "/content/streamlit_goodreads_app\n"
          ]
        }
      ]
    },
    {
      "cell_type": "code",
      "source": [
        "!pip install -q -r requirements.txt"
      ],
      "metadata": {
        "colab": {
          "base_uri": "https://localhost:8080/"
        },
        "id": "y9UY5zPB_POO",
        "outputId": "72d8f097-dc70-44b9-b9bc-51e474aa1477"
      },
      "execution_count": 6,
      "outputs": [
        {
          "output_type": "stream",
          "name": "stdout",
          "text": [
            "\u001b[?25l\r\u001b[K     |▉                               | 10 kB 34.7 MB/s eta 0:00:01\r\u001b[K     |█▊                              | 20 kB 41.6 MB/s eta 0:00:01\r\u001b[K     |██▋                             | 30 kB 50.5 MB/s eta 0:00:01\r\u001b[K     |███▌                            | 40 kB 33.7 MB/s eta 0:00:01\r\u001b[K     |████▎                           | 51 kB 35.0 MB/s eta 0:00:01\r\u001b[K     |█████▏                          | 61 kB 37.4 MB/s eta 0:00:01\r\u001b[K     |██████                          | 71 kB 24.6 MB/s eta 0:00:01\r\u001b[K     |███████                         | 81 kB 25.3 MB/s eta 0:00:01\r\u001b[K     |███████▊                        | 92 kB 27.6 MB/s eta 0:00:01\r\u001b[K     |████████▋                       | 102 kB 29.8 MB/s eta 0:00:01\r\u001b[K     |█████████▌                      | 112 kB 29.8 MB/s eta 0:00:01\r\u001b[K     |██████████▍                     | 122 kB 29.8 MB/s eta 0:00:01\r\u001b[K     |███████████▎                    | 133 kB 29.8 MB/s eta 0:00:01\r\u001b[K     |████████████                    | 143 kB 29.8 MB/s eta 0:00:01\r\u001b[K     |█████████████                   | 153 kB 29.8 MB/s eta 0:00:01\r\u001b[K     |█████████████▉                  | 163 kB 29.8 MB/s eta 0:00:01\r\u001b[K     |██████████████▊                 | 174 kB 29.8 MB/s eta 0:00:01\r\u001b[K     |███████████████▌                | 184 kB 29.8 MB/s eta 0:00:01\r\u001b[K     |████████████████▍               | 194 kB 29.8 MB/s eta 0:00:01\r\u001b[K     |█████████████████▎              | 204 kB 29.8 MB/s eta 0:00:01\r\u001b[K     |██████████████████▏             | 215 kB 29.8 MB/s eta 0:00:01\r\u001b[K     |███████████████████             | 225 kB 29.8 MB/s eta 0:00:01\r\u001b[K     |███████████████████▉            | 235 kB 29.8 MB/s eta 0:00:01\r\u001b[K     |████████████████████▊           | 245 kB 29.8 MB/s eta 0:00:01\r\u001b[K     |█████████████████████▋          | 256 kB 29.8 MB/s eta 0:00:01\r\u001b[K     |██████████████████████▌         | 266 kB 29.8 MB/s eta 0:00:01\r\u001b[K     |███████████████████████▎        | 276 kB 29.8 MB/s eta 0:00:01\r\u001b[K     |████████████████████████▏       | 286 kB 29.8 MB/s eta 0:00:01\r\u001b[K     |█████████████████████████       | 296 kB 29.8 MB/s eta 0:00:01\r\u001b[K     |██████████████████████████      | 307 kB 29.8 MB/s eta 0:00:01\r\u001b[K     |██████████████████████████▉     | 317 kB 29.8 MB/s eta 0:00:01\r\u001b[K     |███████████████████████████▋    | 327 kB 29.8 MB/s eta 0:00:01\r\u001b[K     |████████████████████████████▌   | 337 kB 29.8 MB/s eta 0:00:01\r\u001b[K     |█████████████████████████████▍  | 348 kB 29.8 MB/s eta 0:00:01\r\u001b[K     |██████████████████████████████▎ | 358 kB 29.8 MB/s eta 0:00:01\r\u001b[K     |███████████████████████████████ | 368 kB 29.8 MB/s eta 0:00:01\r\u001b[K     |████████████████████████████████| 378 kB 29.8 MB/s eta 0:00:01\r\u001b[K     |████████████████████████████████| 379 kB 29.8 MB/s \n",
            "\u001b[K     |████████████████████████████████| 769 kB 65.1 MB/s \n",
            "\u001b[K     |████████████████████████████████| 46 kB 4.2 MB/s \n",
            "\u001b[K     |████████████████████████████████| 635 kB 72.1 MB/s \n",
            "\u001b[K     |████████████████████████████████| 624 kB 84.9 MB/s \n",
            "\u001b[K     |████████████████████████████████| 679 kB 93.4 MB/s \n",
            "\u001b[K     |████████████████████████████████| 1.0 MB 72.3 MB/s \n",
            "\u001b[K     |████████████████████████████████| 219 kB 85.9 MB/s \n",
            "\u001b[K     |████████████████████████████████| 1.6 MB 88.7 MB/s \n",
            "\u001b[K     |████████████████████████████████| 128 kB 77.7 MB/s \n",
            "\u001b[?25h  Building wheel for htbuilder (setup.py) ... \u001b[?25l\u001b[?25hdone\n",
            "  Building wheel for st-annotated-text (setup.py) ... \u001b[?25l\u001b[?25hdone\n",
            "\u001b[31mERROR: pip's dependency resolver does not currently take into account all the packages that are installed. This behaviour is the source of the following dependency conflicts.\n",
            "tensorflow 2.9.2 requires protobuf<3.20,>=3.9.2, but you have protobuf 3.20.3 which is incompatible.\n",
            "tensorboard 2.9.1 requires protobuf<3.20,>=3.9.2, but you have protobuf 3.20.3 which is incompatible.\u001b[0m\n"
          ]
        }
      ]
    },
    {
      "cell_type": "code",
      "source": [
        "!streamlit run books.py "
      ],
      "metadata": {
        "colab": {
          "base_uri": "https://localhost:8080/"
        },
        "id": "h8JNwrfdwBK-",
        "outputId": "0c18ce56-7e30-440c-e756-3cb1dff385fc"
      },
      "execution_count": 9,
      "outputs": [
        {
          "output_type": "stream",
          "name": "stdout",
          "text": [
            "\n",
            "Collecting usage statistics. To deactivate, set browser.gatherUsageStats to False.\n",
            "\u001b[0m\n",
            "\u001b[0m\n",
            "\u001b[34m\u001b[1m  You can now view your Streamlit app in your browser.\u001b[0m\n",
            "\u001b[0m\n",
            "\u001b[34m  Network URL: \u001b[0m\u001b[1mhttp://172.28.0.12:8501\u001b[0m\n",
            "\u001b[34m  External URL: \u001b[0m\u001b[1mhttp://35.186.183.214:8501\u001b[0m\n",
            "\u001b[0m\n",
            "\u001b[34m  Stopping...\u001b[0m\n"
          ]
        }
      ]
    },
    {
      "cell_type": "code",
      "source": [
        "!streamlit run books.py &>/dev/null& nohup bash -c 'npx localtunnel --port 8501 --subdomain romellfudi>.md' &>/dev/null&\n",
        "!sleep 10s;cat .md"
      ],
      "metadata": {
        "id": "Ew-DqfudfZ_a",
        "outputId": "5dce25bb-442a-43a7-de6e-506495e5e172",
        "colab": {
          "base_uri": "https://localhost:8080/"
        }
      },
      "execution_count": 10,
      "outputs": [
        {
          "output_type": "stream",
          "name": "stdout",
          "text": [
            "your url is: https://romellfudi.loca.lt\n"
          ]
        }
      ]
    },
    {
      "cell_type": "code",
      "source": [],
      "metadata": {
        "id": "FDpnGimTRoHH"
      },
      "execution_count": null,
      "outputs": []
    }
  ]
}